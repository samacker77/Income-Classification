{
 "cells": [
  {
   "cell_type": "markdown",
   "metadata": {},
   "source": [
    "import matplotlib.pyplot as plt\n",
    "# ^^^ pyforest auto-imports - don't write above this line\n",
    "## Adult income classification\n",
    "---\n",
    "* Dataset information\n",
    "\n",
    "> The data was extracted from the 1994 Census bureau database by Ronny Kohavi and Barry Becker (Data Mining and Visualization, Silicon Graphics). A set of reasonably clean records was extracted using the following conditions: ((AAGE>16) && (AGI>100) && (AFNLWGT>1) && (HRSWK>0)). The prediction task is to determine whether a person makes over $50K a year."
   ]
  },
  {
   "cell_type": "markdown",
   "metadata": {},
   "source": [
    "## Task\n",
    "---\n",
    "> ##### Predict whether income exceeds $50K/yr based on census data\n"
   ]
  },
  {
   "cell_type": "markdown",
   "metadata": {},
   "source": [
    "### Importing libraries"
   ]
  },
  {
   "cell_type": "code",
   "execution_count": 593,
   "metadata": {},
   "outputs": [],
   "source": [
    "import os\n",
    "import sys\n",
    "import numpy as np\n",
    "import pandas as pd\n",
    "import seaborn as sns"
   ]
  },
  {
   "cell_type": "code",
   "execution_count": 594,
   "metadata": {},
   "outputs": [],
   "source": [
    "def load_data():\n",
    "    return pd.read_csv('data/income_data.csv')"
   ]
  },
  {
   "cell_type": "code",
   "execution_count": 595,
   "metadata": {},
   "outputs": [],
   "source": [
    "income_data = load_data()"
   ]
  },
  {
   "cell_type": "code",
   "execution_count": 596,
   "metadata": {},
   "outputs": [
    {
     "data": {
      "text/html": [
       "<div>\n",
       "<style scoped>\n",
       "    .dataframe tbody tr th:only-of-type {\n",
       "        vertical-align: middle;\n",
       "    }\n",
       "\n",
       "    .dataframe tbody tr th {\n",
       "        vertical-align: top;\n",
       "    }\n",
       "\n",
       "    .dataframe thead th {\n",
       "        text-align: right;\n",
       "    }\n",
       "</style>\n",
       "<table border=\"1\" class=\"dataframe\">\n",
       "  <thead>\n",
       "    <tr style=\"text-align: right;\">\n",
       "      <th></th>\n",
       "      <th>age</th>\n",
       "      <th>workclass</th>\n",
       "      <th>fnlwgt</th>\n",
       "      <th>education</th>\n",
       "      <th>education.num</th>\n",
       "      <th>marital.status</th>\n",
       "      <th>occupation</th>\n",
       "      <th>relationship</th>\n",
       "      <th>race</th>\n",
       "      <th>sex</th>\n",
       "      <th>capital.gain</th>\n",
       "      <th>capital.loss</th>\n",
       "      <th>hours.per.week</th>\n",
       "      <th>native.country</th>\n",
       "      <th>income</th>\n",
       "    </tr>\n",
       "  </thead>\n",
       "  <tbody>\n",
       "    <tr>\n",
       "      <td>0</td>\n",
       "      <td>90</td>\n",
       "      <td>?</td>\n",
       "      <td>77053</td>\n",
       "      <td>HS-grad</td>\n",
       "      <td>9</td>\n",
       "      <td>Widowed</td>\n",
       "      <td>?</td>\n",
       "      <td>Not-in-family</td>\n",
       "      <td>White</td>\n",
       "      <td>Female</td>\n",
       "      <td>0</td>\n",
       "      <td>4356</td>\n",
       "      <td>40</td>\n",
       "      <td>United-States</td>\n",
       "      <td>&lt;=50K</td>\n",
       "    </tr>\n",
       "    <tr>\n",
       "      <td>1</td>\n",
       "      <td>82</td>\n",
       "      <td>Private</td>\n",
       "      <td>132870</td>\n",
       "      <td>HS-grad</td>\n",
       "      <td>9</td>\n",
       "      <td>Widowed</td>\n",
       "      <td>Exec-managerial</td>\n",
       "      <td>Not-in-family</td>\n",
       "      <td>White</td>\n",
       "      <td>Female</td>\n",
       "      <td>0</td>\n",
       "      <td>4356</td>\n",
       "      <td>18</td>\n",
       "      <td>United-States</td>\n",
       "      <td>&lt;=50K</td>\n",
       "    </tr>\n",
       "    <tr>\n",
       "      <td>2</td>\n",
       "      <td>66</td>\n",
       "      <td>?</td>\n",
       "      <td>186061</td>\n",
       "      <td>Some-college</td>\n",
       "      <td>10</td>\n",
       "      <td>Widowed</td>\n",
       "      <td>?</td>\n",
       "      <td>Unmarried</td>\n",
       "      <td>Black</td>\n",
       "      <td>Female</td>\n",
       "      <td>0</td>\n",
       "      <td>4356</td>\n",
       "      <td>40</td>\n",
       "      <td>United-States</td>\n",
       "      <td>&lt;=50K</td>\n",
       "    </tr>\n",
       "    <tr>\n",
       "      <td>3</td>\n",
       "      <td>54</td>\n",
       "      <td>Private</td>\n",
       "      <td>140359</td>\n",
       "      <td>7th-8th</td>\n",
       "      <td>4</td>\n",
       "      <td>Divorced</td>\n",
       "      <td>Machine-op-inspct</td>\n",
       "      <td>Unmarried</td>\n",
       "      <td>White</td>\n",
       "      <td>Female</td>\n",
       "      <td>0</td>\n",
       "      <td>3900</td>\n",
       "      <td>40</td>\n",
       "      <td>United-States</td>\n",
       "      <td>&lt;=50K</td>\n",
       "    </tr>\n",
       "    <tr>\n",
       "      <td>4</td>\n",
       "      <td>41</td>\n",
       "      <td>Private</td>\n",
       "      <td>264663</td>\n",
       "      <td>Some-college</td>\n",
       "      <td>10</td>\n",
       "      <td>Separated</td>\n",
       "      <td>Prof-specialty</td>\n",
       "      <td>Own-child</td>\n",
       "      <td>White</td>\n",
       "      <td>Female</td>\n",
       "      <td>0</td>\n",
       "      <td>3900</td>\n",
       "      <td>40</td>\n",
       "      <td>United-States</td>\n",
       "      <td>&lt;=50K</td>\n",
       "    </tr>\n",
       "  </tbody>\n",
       "</table>\n",
       "</div>"
      ],
      "text/plain": [
       "   age workclass  fnlwgt     education  education.num marital.status  \\\n",
       "0   90         ?   77053       HS-grad              9        Widowed   \n",
       "1   82   Private  132870       HS-grad              9        Widowed   \n",
       "2   66         ?  186061  Some-college             10        Widowed   \n",
       "3   54   Private  140359       7th-8th              4       Divorced   \n",
       "4   41   Private  264663  Some-college             10      Separated   \n",
       "\n",
       "          occupation   relationship   race     sex  capital.gain  \\\n",
       "0                  ?  Not-in-family  White  Female             0   \n",
       "1    Exec-managerial  Not-in-family  White  Female             0   \n",
       "2                  ?      Unmarried  Black  Female             0   \n",
       "3  Machine-op-inspct      Unmarried  White  Female             0   \n",
       "4     Prof-specialty      Own-child  White  Female             0   \n",
       "\n",
       "   capital.loss  hours.per.week native.country income  \n",
       "0          4356              40  United-States  <=50K  \n",
       "1          4356              18  United-States  <=50K  \n",
       "2          4356              40  United-States  <=50K  \n",
       "3          3900              40  United-States  <=50K  \n",
       "4          3900              40  United-States  <=50K  "
      ]
     },
     "execution_count": 596,
     "metadata": {},
     "output_type": "execute_result"
    }
   ],
   "source": [
    "income_data.head()"
   ]
  },
  {
   "cell_type": "markdown",
   "metadata": {},
   "source": [
    "##### Shape of the data"
   ]
  },
  {
   "cell_type": "code",
   "execution_count": 597,
   "metadata": {},
   "outputs": [],
   "source": [
    "instances = income_data.shape[0]\n",
    "attributes = income_data.shape[1]"
   ]
  },
  {
   "cell_type": "code",
   "execution_count": 598,
   "metadata": {},
   "outputs": [
    {
     "name": "stdout",
     "output_type": "stream",
     "text": [
      "Number of rows in data => 32561,\n",
      "and number of columns in data => 15\n"
     ]
    }
   ],
   "source": [
    "print(f\"Number of rows in data => {instances},\\nand number of columns in data => {attributes}\")"
   ]
  },
  {
   "cell_type": "code",
   "execution_count": 599,
   "metadata": {},
   "outputs": [],
   "source": [
    "from sklearn.model_selection import train_test_split"
   ]
  },
  {
   "cell_type": "code",
   "execution_count": 600,
   "metadata": {},
   "outputs": [],
   "source": [
    "X_train,X_test,y_train,y_test = train_test_split(income_data.iloc[:,:14],income_data['income'],test_size=0.2)"
   ]
  },
  {
   "cell_type": "code",
   "execution_count": 601,
   "metadata": {},
   "outputs": [
    {
     "data": {
      "text/plain": [
       "age                int64\n",
       "workclass         object\n",
       "fnlwgt             int64\n",
       "education         object\n",
       "education.num      int64\n",
       "marital.status    object\n",
       "occupation        object\n",
       "relationship      object\n",
       "race              object\n",
       "sex               object\n",
       "capital.gain       int64\n",
       "capital.loss       int64\n",
       "hours.per.week     int64\n",
       "native.country    object\n",
       "income            object\n",
       "dtype: object"
      ]
     },
     "execution_count": 601,
     "metadata": {},
     "output_type": "execute_result"
    }
   ],
   "source": [
    "income_data.dtypes"
   ]
  },
  {
   "cell_type": "code",
   "execution_count": 602,
   "metadata": {},
   "outputs": [
    {
     "data": {
      "text/plain": [
       "array(['<=50K', '>50K'], dtype=object)"
      ]
     },
     "execution_count": 602,
     "metadata": {},
     "output_type": "execute_result"
    }
   ],
   "source": [
    "income_data.income.unique()"
   ]
  },
  {
   "cell_type": "markdown",
   "metadata": {},
   "source": [
    "<h1 style=\"text-align:center\">Data Preprocessing</h1>"
   ]
  },
  {
   "cell_type": "markdown",
   "metadata": {},
   "source": [
    "### Mapping <=50k to Class 0, and >50k to Class 1"
   ]
  },
  {
   "cell_type": "code",
   "execution_count": 603,
   "metadata": {},
   "outputs": [],
   "source": [
    "def classEncoder(value):\n",
    "    if value == '<=50K':\n",
    "        return 0\n",
    "    elif value == '>50K':\n",
    "        return 1"
   ]
  },
  {
   "cell_type": "code",
   "execution_count": 604,
   "metadata": {},
   "outputs": [],
   "source": [
    "y_train = y_train.apply(classEncoder)\n",
    "y_test = y_test.apply(classEncoder)"
   ]
  },
  {
   "cell_type": "code",
   "execution_count": 605,
   "metadata": {},
   "outputs": [
    {
     "data": {
      "text/plain": [
       "743      1\n",
       "23876    0\n",
       "28178    0\n",
       "21508    0\n",
       "17881    0\n",
       "Name: income, dtype: int64"
      ]
     },
     "execution_count": 605,
     "metadata": {},
     "output_type": "execute_result"
    }
   ],
   "source": [
    "y_test.head()"
   ]
  },
  {
   "cell_type": "code",
   "execution_count": 606,
   "metadata": {},
   "outputs": [
    {
     "data": {
      "text/plain": [
       "array([0, 1])"
      ]
     },
     "execution_count": 606,
     "metadata": {},
     "output_type": "execute_result"
    }
   ],
   "source": [
    "y_train.unique()"
   ]
  },
  {
   "cell_type": "code",
   "execution_count": 607,
   "metadata": {},
   "outputs": [
    {
     "data": {
      "text/plain": [
       "<matplotlib.axes._subplots.AxesSubplot at 0x1a378e4890>"
      ]
     },
     "execution_count": 607,
     "metadata": {},
     "output_type": "execute_result"
    },
    {
     "data": {
      "image/png": "[encoded data removed]",
      "text/plain": [
       "<Figure size 432x288 with 1 Axes>"
      ]
     },
     "metadata": {
      "needs_background": "light"
     },
     "output_type": "display_data"
    }
   ],
   "source": [
    "sns.countplot(y_train)"
   ]
  },
  {
   "cell_type": "markdown",
   "metadata": {},
   "source": [
    "### We see that the classes are imbalanced. We will take care of this in the later part of the notebook.\n",
    "* How does imbalanced classes affect the predictions?\n",
    "> If we don't fix this problem of imbalanced dataset, then the model will be highly biased towards the dominating class."
   ]
  },
  {
   "cell_type": "code",
   "execution_count": 608,
   "metadata": {},
   "outputs": [
    {
     "data": {
      "text/html": [
       "<div>\n",
       "<style scoped>\n",
       "    .dataframe tbody tr th:only-of-type {\n",
       "        vertical-align: middle;\n",
       "    }\n",
       "\n",
       "    .dataframe tbody tr th {\n",
       "        vertical-align: top;\n",
       "    }\n",
       "\n",
       "    .dataframe thead th {\n",
       "        text-align: right;\n",
       "    }\n",
       "</style>\n",
       "<table border=\"1\" class=\"dataframe\">\n",
       "  <thead>\n",
       "    <tr style=\"text-align: right;\">\n",
       "      <th></th>\n",
       "      <th>age</th>\n",
       "      <th>workclass</th>\n",
       "      <th>fnlwgt</th>\n",
       "      <th>education</th>\n",
       "      <th>education.num</th>\n",
       "      <th>marital.status</th>\n",
       "      <th>occupation</th>\n",
       "      <th>relationship</th>\n",
       "      <th>race</th>\n",
       "      <th>sex</th>\n",
       "      <th>capital.gain</th>\n",
       "      <th>capital.loss</th>\n",
       "      <th>hours.per.week</th>\n",
       "      <th>native.country</th>\n",
       "    </tr>\n",
       "  </thead>\n",
       "  <tbody>\n",
       "    <tr>\n",
       "      <td>18106</td>\n",
       "      <td>23</td>\n",
       "      <td>Private</td>\n",
       "      <td>60668</td>\n",
       "      <td>10th</td>\n",
       "      <td>6</td>\n",
       "      <td>Married-civ-spouse</td>\n",
       "      <td>Craft-repair</td>\n",
       "      <td>Husband</td>\n",
       "      <td>White</td>\n",
       "      <td>Male</td>\n",
       "      <td>0</td>\n",
       "      <td>0</td>\n",
       "      <td>40</td>\n",
       "      <td>Portugal</td>\n",
       "    </tr>\n",
       "    <tr>\n",
       "      <td>8008</td>\n",
       "      <td>25</td>\n",
       "      <td>Private</td>\n",
       "      <td>125159</td>\n",
       "      <td>Assoc-acdm</td>\n",
       "      <td>12</td>\n",
       "      <td>Married-civ-spouse</td>\n",
       "      <td>Handlers-cleaners</td>\n",
       "      <td>Husband</td>\n",
       "      <td>Black</td>\n",
       "      <td>Male</td>\n",
       "      <td>0</td>\n",
       "      <td>0</td>\n",
       "      <td>40</td>\n",
       "      <td>Jamaica</td>\n",
       "    </tr>\n",
       "    <tr>\n",
       "      <td>30868</td>\n",
       "      <td>45</td>\n",
       "      <td>Private</td>\n",
       "      <td>343377</td>\n",
       "      <td>Some-college</td>\n",
       "      <td>10</td>\n",
       "      <td>Married-civ-spouse</td>\n",
       "      <td>Adm-clerical</td>\n",
       "      <td>Husband</td>\n",
       "      <td>White</td>\n",
       "      <td>Male</td>\n",
       "      <td>0</td>\n",
       "      <td>0</td>\n",
       "      <td>40</td>\n",
       "      <td>United-States</td>\n",
       "    </tr>\n",
       "    <tr>\n",
       "      <td>17553</td>\n",
       "      <td>30</td>\n",
       "      <td>Private</td>\n",
       "      <td>173005</td>\n",
       "      <td>HS-grad</td>\n",
       "      <td>9</td>\n",
       "      <td>Married-civ-spouse</td>\n",
       "      <td>Adm-clerical</td>\n",
       "      <td>Husband</td>\n",
       "      <td>White</td>\n",
       "      <td>Male</td>\n",
       "      <td>0</td>\n",
       "      <td>0</td>\n",
       "      <td>44</td>\n",
       "      <td>United-States</td>\n",
       "    </tr>\n",
       "    <tr>\n",
       "      <td>27837</td>\n",
       "      <td>47</td>\n",
       "      <td>Local-gov</td>\n",
       "      <td>93618</td>\n",
       "      <td>Some-college</td>\n",
       "      <td>10</td>\n",
       "      <td>Divorced</td>\n",
       "      <td>Adm-clerical</td>\n",
       "      <td>Not-in-family</td>\n",
       "      <td>White</td>\n",
       "      <td>Female</td>\n",
       "      <td>0</td>\n",
       "      <td>0</td>\n",
       "      <td>33</td>\n",
       "      <td>United-States</td>\n",
       "    </tr>\n",
       "  </tbody>\n",
       "</table>\n",
       "</div>"
      ],
      "text/plain": [
       "       age  workclass  fnlwgt     education  education.num  \\\n",
       "18106   23    Private   60668          10th              6   \n",
       "8008    25    Private  125159    Assoc-acdm             12   \n",
       "30868   45    Private  343377  Some-college             10   \n",
       "17553   30    Private  173005       HS-grad              9   \n",
       "27837   47  Local-gov   93618  Some-college             10   \n",
       "\n",
       "           marital.status         occupation   relationship   race     sex  \\\n",
       "18106  Married-civ-spouse       Craft-repair        Husband  White    Male   \n",
       "8008   Married-civ-spouse  Handlers-cleaners        Husband  Black    Male   \n",
       "30868  Married-civ-spouse       Adm-clerical        Husband  White    Male   \n",
       "17553  Married-civ-spouse       Adm-clerical        Husband  White    Male   \n",
       "27837            Divorced       Adm-clerical  Not-in-family  White  Female   \n",
       "\n",
       "       capital.gain  capital.loss  hours.per.week native.country  \n",
       "18106             0             0              40       Portugal  \n",
       "8008              0             0              40        Jamaica  \n",
       "30868             0             0              40  United-States  \n",
       "17553             0             0              44  United-States  \n",
       "27837             0             0              33  United-States  "
      ]
     },
     "execution_count": 608,
     "metadata": {},
     "output_type": "execute_result"
    }
   ],
   "source": [
    "X_train.head()"
   ]
  },
  {
   "cell_type": "code",
   "execution_count": 609,
   "metadata": {},
   "outputs": [],
   "source": [
    "#X_train.workclass[23724]"
   ]
  },
  {
   "cell_type": "code",
   "execution_count": 610,
   "metadata": {},
   "outputs": [
    {
     "data": {
      "text/plain": [
       "age               False\n",
       "workclass         False\n",
       "fnlwgt            False\n",
       "education         False\n",
       "education.num     False\n",
       "marital.status    False\n",
       "occupation        False\n",
       "relationship      False\n",
       "race              False\n",
       "sex               False\n",
       "capital.gain      False\n",
       "capital.loss      False\n",
       "hours.per.week    False\n",
       "native.country    False\n",
       "dtype: bool"
      ]
     },
     "execution_count": 610,
     "metadata": {},
     "output_type": "execute_result"
    }
   ],
   "source": [
    "X_train.isna().any()"
   ]
  },
  {
   "cell_type": "markdown",
   "metadata": {},
   "source": [
    "### We see that there are no NULL/NaN values in the dataset.\n",
    "> Looks straightforward right? No, don't be fooled by this. We see that there are many values that have '?' in place of NaN or Null values. This is why data exploration is very important. The data collection group decided to put a '?' in place of missing values. It's our job to handle this problem. "
   ]
  },
  {
   "cell_type": "code",
   "execution_count": 611,
   "metadata": {},
   "outputs": [
    {
     "name": "stdout",
     "output_type": "stream",
     "text": [
      "Attribute = age, Unique values = 72\n",
      "Attribute = workclass, Unique values = 9\n",
      "Attribute = fnlwgt, Unique values = 18394\n",
      "Attribute = education, Unique values = 16\n",
      "Attribute = education.num, Unique values = 16\n",
      "Attribute = marital.status, Unique values = 7\n",
      "Attribute = occupation, Unique values = 15\n",
      "Attribute = relationship, Unique values = 6\n",
      "Attribute = race, Unique values = 5\n",
      "Attribute = sex, Unique values = 2\n",
      "Attribute = capital.gain, Unique values = 117\n",
      "Attribute = capital.loss, Unique values = 89\n",
      "Attribute = hours.per.week, Unique values = 92\n"
     ]
    }
   ],
   "source": [
    "for attribute in X_train.columns[:-1]:\n",
    "    print(\"Attribute = {}, Unique values = {}\".format(attribute,X_train[attribute].nunique()))"
   ]
  },
  {
   "cell_type": "markdown",
   "metadata": {},
   "source": [
    "\n",
    "### Let's look at each feature one by one and transform it to get rid of missing values"
   ]
  },
  {
   "cell_type": "markdown",
   "metadata": {},
   "source": [
    "#### A list of attributes to keep track of attributes that needs to be transformed"
   ]
  },
  {
   "cell_type": "code",
   "execution_count": 612,
   "metadata": {},
   "outputs": [],
   "source": [
    "transform_attributes_train = []\n",
    "transform_attributes_test = []"
   ]
  },
  {
   "cell_type": "markdown",
   "metadata": {},
   "source": [
    "---\n",
    "1. <h3><strong style=\"color:red\">Age</strong> attribute</h3>"
   ]
  },
  {
   "cell_type": "code",
   "execution_count": 613,
   "metadata": {},
   "outputs": [],
   "source": [
    "age_series = X_train.age"
   ]
  },
  {
   "cell_type": "code",
   "execution_count": 614,
   "metadata": {},
   "outputs": [],
   "source": [
    "age_list = list(age_series)"
   ]
  },
  {
   "cell_type": "code",
   "execution_count": 615,
   "metadata": {},
   "outputs": [
    {
     "data": {
      "text/plain": [
       "False"
      ]
     },
     "execution_count": 615,
     "metadata": {},
     "output_type": "execute_result"
    }
   ],
   "source": [
    "'?' in age_list"
   ]
  },
  {
   "cell_type": "code",
   "execution_count": 616,
   "metadata": {},
   "outputs": [
    {
     "data": {
      "application/javascript": [
       "\n",
       "        if (window._pyforest_update_imports_cell) { window._pyforest_update_imports_cell('import matplotlib.pyplot as plt'); }\n",
       "    "
      ],
      "text/plain": [
       "<IPython.core.display.Javascript object>"
      ]
     },
     "metadata": {},
     "output_type": "display_data"
    },
    {
     "data": {
      "text/plain": [
       "<matplotlib.axes._subplots.AxesSubplot at 0x1a37dab390>"
      ]
     },
     "execution_count": 616,
     "metadata": {},
     "output_type": "execute_result"
    },
    {
     "data": {
      "image/png": "[encoded data removed]",
      "text/plain": [
       "<Figure size 1800x360 with 1 Axes>"
      ]
     },
     "metadata": {
      "needs_background": "light"
     },
     "output_type": "display_data"
    }
   ],
   "source": [
    "plt.figure(figsize=(25,5))\n",
    "sns.countplot(age_list)"
   ]
  },
  {
   "cell_type": "markdown",
   "metadata": {},
   "source": [
    "> The age attribute does not have any '?' or missing values"
   ]
  },
  {
   "cell_type": "markdown",
   "metadata": {},
   "source": [
    "---\n",
    "2. <h3><strong style=\"color:red\">WorkClass</strong> attribute</h3>"
   ]
  },
  {
   "cell_type": "code",
   "execution_count": 617,
   "metadata": {},
   "outputs": [],
   "source": [
    "workclass_list = list(X_train.workclass)"
   ]
  },
  {
   "cell_type": "code",
   "execution_count": 618,
   "metadata": {},
   "outputs": [
    {
     "data": {
      "text/plain": [
       "True"
      ]
     },
     "execution_count": 618,
     "metadata": {},
     "output_type": "execute_result"
    }
   ],
   "source": [
    "'?' in workclass_list"
   ]
  },
  {
   "cell_type": "markdown",
   "metadata": {},
   "source": [
    "> workclass attribute has some values as '?'"
   ]
  },
  {
   "cell_type": "code",
   "execution_count": 619,
   "metadata": {},
   "outputs": [
    {
     "data": {
      "application/javascript": [
       "\n",
       "        if (window._pyforest_update_imports_cell) { window._pyforest_update_imports_cell('import matplotlib.pyplot as plt'); }\n",
       "    "
      ],
      "text/plain": [
       "<IPython.core.display.Javascript object>"
      ]
     },
     "metadata": {},
     "output_type": "display_data"
    },
    {
     "data": {
      "text/plain": [
       "<matplotlib.axes._subplots.AxesSubplot at 0x1a37a1ebd0>"
      ]
     },
     "execution_count": 619,
     "metadata": {},
     "output_type": "execute_result"
    },
    {
     "data": {
      "image/png": "[encoded data removed]",
      "text/plain": [
       "<Figure size 1080x360 with 1 Axes>"
      ]
     },
     "metadata": {
      "needs_background": "light"
     },
     "output_type": "display_data"
    }
   ],
   "source": [
    "plt.figure(figsize=(15,5))\n",
    "sns.countplot(workclass_list)"
   ]
  },
  {
   "cell_type": "markdown",
   "metadata": {},
   "source": [
    "> We find that there are a small number of values with '?'"
   ]
  },
  {
   "cell_type": "markdown",
   "metadata": {},
   "source": [
    "* Now what we will do is replace all the '?' values with NaN so that we can drop or transform them later"
   ]
  },
  {
   "cell_type": "markdown",
   "metadata": {},
   "source": [
    "### To speed up this process of identifying '?' in an attribute let's create a function"
   ]
  },
  {
   "cell_type": "code",
   "execution_count": 620,
   "metadata": {},
   "outputs": [],
   "source": [
    "def detect_missing_values_train(attribute):\n",
    "    if '?' in list(X_train[attribute]):\n",
    "        transform_attributes_train.append(attribute)\n",
    "def detect_missing_values_test(attribute):\n",
    "    if '?' in list(X_test[attribute]):\n",
    "        transform_attributes_test.append(attribute)"
   ]
  },
  {
   "cell_type": "code",
   "execution_count": 621,
   "metadata": {},
   "outputs": [],
   "source": [
    "for attribute in X_train.columns:\n",
    "    detect_missing_values_train(attribute)\n",
    "for attribute in X_test.columns:\n",
    "    detect_missing_values_test(attribute)"
   ]
  },
  {
   "cell_type": "code",
   "execution_count": 622,
   "metadata": {},
   "outputs": [
    {
     "name": "stdout",
     "output_type": "stream",
     "text": [
      "['workclass', 'occupation', 'native.country']\n",
      "['workclass', 'occupation', 'native.country']\n"
     ]
    }
   ],
   "source": [
    "print(transform_attributes_train)\n",
    "print(transform_attributes_test)"
   ]
  },
  {
   "cell_type": "markdown",
   "metadata": {},
   "source": [
    "### We see that there are 3 attributes with '?' as missing values\n"
   ]
  },
  {
   "cell_type": "code",
   "execution_count": 623,
   "metadata": {},
   "outputs": [],
   "source": [
    "for attribute in transform_attributes_train:\n",
    "    X_train[attribute] = X_train[attribute].replace('?', np.NaN)\n",
    "    X_test[attribute] = X_test[attribute].replace('?', np.NaN)"
   ]
  },
  {
   "cell_type": "code",
   "execution_count": 624,
   "metadata": {},
   "outputs": [
    {
     "data": {
      "text/html": [
       "<div>\n",
       "<style scoped>\n",
       "    .dataframe tbody tr th:only-of-type {\n",
       "        vertical-align: middle;\n",
       "    }\n",
       "\n",
       "    .dataframe tbody tr th {\n",
       "        vertical-align: top;\n",
       "    }\n",
       "\n",
       "    .dataframe thead th {\n",
       "        text-align: right;\n",
       "    }\n",
       "</style>\n",
       "<table border=\"1\" class=\"dataframe\">\n",
       "  <thead>\n",
       "    <tr style=\"text-align: right;\">\n",
       "      <th></th>\n",
       "      <th>age</th>\n",
       "      <th>workclass</th>\n",
       "      <th>fnlwgt</th>\n",
       "      <th>education</th>\n",
       "      <th>education.num</th>\n",
       "      <th>marital.status</th>\n",
       "      <th>occupation</th>\n",
       "      <th>relationship</th>\n",
       "      <th>race</th>\n",
       "      <th>sex</th>\n",
       "      <th>capital.gain</th>\n",
       "      <th>capital.loss</th>\n",
       "      <th>hours.per.week</th>\n",
       "      <th>native.country</th>\n",
       "    </tr>\n",
       "  </thead>\n",
       "  <tbody>\n",
       "    <tr>\n",
       "      <td>18106</td>\n",
       "      <td>23</td>\n",
       "      <td>Private</td>\n",
       "      <td>60668</td>\n",
       "      <td>10th</td>\n",
       "      <td>6</td>\n",
       "      <td>Married-civ-spouse</td>\n",
       "      <td>Craft-repair</td>\n",
       "      <td>Husband</td>\n",
       "      <td>White</td>\n",
       "      <td>Male</td>\n",
       "      <td>0</td>\n",
       "      <td>0</td>\n",
       "      <td>40</td>\n",
       "      <td>Portugal</td>\n",
       "    </tr>\n",
       "    <tr>\n",
       "      <td>8008</td>\n",
       "      <td>25</td>\n",
       "      <td>Private</td>\n",
       "      <td>125159</td>\n",
       "      <td>Assoc-acdm</td>\n",
       "      <td>12</td>\n",
       "      <td>Married-civ-spouse</td>\n",
       "      <td>Handlers-cleaners</td>\n",
       "      <td>Husband</td>\n",
       "      <td>Black</td>\n",
       "      <td>Male</td>\n",
       "      <td>0</td>\n",
       "      <td>0</td>\n",
       "      <td>40</td>\n",
       "      <td>Jamaica</td>\n",
       "    </tr>\n",
       "    <tr>\n",
       "      <td>30868</td>\n",
       "      <td>45</td>\n",
       "      <td>Private</td>\n",
       "      <td>343377</td>\n",
       "      <td>Some-college</td>\n",
       "      <td>10</td>\n",
       "      <td>Married-civ-spouse</td>\n",
       "      <td>Adm-clerical</td>\n",
       "      <td>Husband</td>\n",
       "      <td>White</td>\n",
       "      <td>Male</td>\n",
       "      <td>0</td>\n",
       "      <td>0</td>\n",
       "      <td>40</td>\n",
       "      <td>United-States</td>\n",
       "    </tr>\n",
       "    <tr>\n",
       "      <td>17553</td>\n",
       "      <td>30</td>\n",
       "      <td>Private</td>\n",
       "      <td>173005</td>\n",
       "      <td>HS-grad</td>\n",
       "      <td>9</td>\n",
       "      <td>Married-civ-spouse</td>\n",
       "      <td>Adm-clerical</td>\n",
       "      <td>Husband</td>\n",
       "      <td>White</td>\n",
       "      <td>Male</td>\n",
       "      <td>0</td>\n",
       "      <td>0</td>\n",
       "      <td>44</td>\n",
       "      <td>United-States</td>\n",
       "    </tr>\n",
       "    <tr>\n",
       "      <td>27837</td>\n",
       "      <td>47</td>\n",
       "      <td>Local-gov</td>\n",
       "      <td>93618</td>\n",
       "      <td>Some-college</td>\n",
       "      <td>10</td>\n",
       "      <td>Divorced</td>\n",
       "      <td>Adm-clerical</td>\n",
       "      <td>Not-in-family</td>\n",
       "      <td>White</td>\n",
       "      <td>Female</td>\n",
       "      <td>0</td>\n",
       "      <td>0</td>\n",
       "      <td>33</td>\n",
       "      <td>United-States</td>\n",
       "    </tr>\n",
       "  </tbody>\n",
       "</table>\n",
       "</div>"
      ],
      "text/plain": [
       "       age  workclass  fnlwgt     education  education.num  \\\n",
       "18106   23    Private   60668          10th              6   \n",
       "8008    25    Private  125159    Assoc-acdm             12   \n",
       "30868   45    Private  343377  Some-college             10   \n",
       "17553   30    Private  173005       HS-grad              9   \n",
       "27837   47  Local-gov   93618  Some-college             10   \n",
       "\n",
       "           marital.status         occupation   relationship   race     sex  \\\n",
       "18106  Married-civ-spouse       Craft-repair        Husband  White    Male   \n",
       "8008   Married-civ-spouse  Handlers-cleaners        Husband  Black    Male   \n",
       "30868  Married-civ-spouse       Adm-clerical        Husband  White    Male   \n",
       "17553  Married-civ-spouse       Adm-clerical        Husband  White    Male   \n",
       "27837            Divorced       Adm-clerical  Not-in-family  White  Female   \n",
       "\n",
       "       capital.gain  capital.loss  hours.per.week native.country  \n",
       "18106             0             0              40       Portugal  \n",
       "8008              0             0              40        Jamaica  \n",
       "30868             0             0              40  United-States  \n",
       "17553             0             0              44  United-States  \n",
       "27837             0             0              33  United-States  "
      ]
     },
     "execution_count": 624,
     "metadata": {},
     "output_type": "execute_result"
    }
   ],
   "source": [
    "X_train.head()"
   ]
  },
  {
   "cell_type": "markdown",
   "metadata": {},
   "source": [
    "### A much faster approach\n",
    "> If you're sure about your data that it only has some other string to represent missing values and feel like you can skip exploring all the attributes, the below piece of code does the same exact thing"
   ]
  },
  {
   "cell_type": "code",
   "execution_count": 625,
   "metadata": {},
   "outputs": [],
   "source": [
    "X_train = X_train.replace('?',np.NaN)\n",
    "X_test = X_test.replace('?',np.NaN)"
   ]
  },
  {
   "cell_type": "code",
   "execution_count": 626,
   "metadata": {},
   "outputs": [
    {
     "data": {
      "text/html": [
       "<div>\n",
       "<style scoped>\n",
       "    .dataframe tbody tr th:only-of-type {\n",
       "        vertical-align: middle;\n",
       "    }\n",
       "\n",
       "    .dataframe tbody tr th {\n",
       "        vertical-align: top;\n",
       "    }\n",
       "\n",
       "    .dataframe thead th {\n",
       "        text-align: right;\n",
       "    }\n",
       "</style>\n",
       "<table border=\"1\" class=\"dataframe\">\n",
       "  <thead>\n",
       "    <tr style=\"text-align: right;\">\n",
       "      <th></th>\n",
       "      <th>age</th>\n",
       "      <th>workclass</th>\n",
       "      <th>fnlwgt</th>\n",
       "      <th>education</th>\n",
       "      <th>education.num</th>\n",
       "      <th>marital.status</th>\n",
       "      <th>occupation</th>\n",
       "      <th>relationship</th>\n",
       "      <th>race</th>\n",
       "      <th>sex</th>\n",
       "      <th>capital.gain</th>\n",
       "      <th>capital.loss</th>\n",
       "      <th>hours.per.week</th>\n",
       "      <th>native.country</th>\n",
       "    </tr>\n",
       "  </thead>\n",
       "  <tbody>\n",
       "    <tr>\n",
       "      <td>743</td>\n",
       "      <td>57</td>\n",
       "      <td>Private</td>\n",
       "      <td>173796</td>\n",
       "      <td>HS-grad</td>\n",
       "      <td>9</td>\n",
       "      <td>Married-civ-spouse</td>\n",
       "      <td>Transport-moving</td>\n",
       "      <td>Husband</td>\n",
       "      <td>White</td>\n",
       "      <td>Male</td>\n",
       "      <td>0</td>\n",
       "      <td>1887</td>\n",
       "      <td>40</td>\n",
       "      <td>United-States</td>\n",
       "    </tr>\n",
       "    <tr>\n",
       "      <td>23876</td>\n",
       "      <td>43</td>\n",
       "      <td>Private</td>\n",
       "      <td>388725</td>\n",
       "      <td>Assoc-acdm</td>\n",
       "      <td>12</td>\n",
       "      <td>Married-civ-spouse</td>\n",
       "      <td>Sales</td>\n",
       "      <td>Husband</td>\n",
       "      <td>White</td>\n",
       "      <td>Male</td>\n",
       "      <td>0</td>\n",
       "      <td>0</td>\n",
       "      <td>40</td>\n",
       "      <td>United-States</td>\n",
       "    </tr>\n",
       "    <tr>\n",
       "      <td>28178</td>\n",
       "      <td>47</td>\n",
       "      <td>Private</td>\n",
       "      <td>110669</td>\n",
       "      <td>Bachelors</td>\n",
       "      <td>13</td>\n",
       "      <td>Separated</td>\n",
       "      <td>Prof-specialty</td>\n",
       "      <td>Unmarried</td>\n",
       "      <td>White</td>\n",
       "      <td>Female</td>\n",
       "      <td>0</td>\n",
       "      <td>0</td>\n",
       "      <td>50</td>\n",
       "      <td>United-States</td>\n",
       "    </tr>\n",
       "    <tr>\n",
       "      <td>21508</td>\n",
       "      <td>26</td>\n",
       "      <td>Private</td>\n",
       "      <td>109570</td>\n",
       "      <td>Some-college</td>\n",
       "      <td>10</td>\n",
       "      <td>Separated</td>\n",
       "      <td>Sales</td>\n",
       "      <td>Unmarried</td>\n",
       "      <td>White</td>\n",
       "      <td>Female</td>\n",
       "      <td>0</td>\n",
       "      <td>0</td>\n",
       "      <td>35</td>\n",
       "      <td>United-States</td>\n",
       "    </tr>\n",
       "    <tr>\n",
       "      <td>17881</td>\n",
       "      <td>60</td>\n",
       "      <td>Self-emp-not-inc</td>\n",
       "      <td>146674</td>\n",
       "      <td>HS-grad</td>\n",
       "      <td>9</td>\n",
       "      <td>Divorced</td>\n",
       "      <td>Craft-repair</td>\n",
       "      <td>Not-in-family</td>\n",
       "      <td>Black</td>\n",
       "      <td>Male</td>\n",
       "      <td>0</td>\n",
       "      <td>0</td>\n",
       "      <td>50</td>\n",
       "      <td>NaN</td>\n",
       "    </tr>\n",
       "  </tbody>\n",
       "</table>\n",
       "</div>"
      ],
      "text/plain": [
       "       age         workclass  fnlwgt     education  education.num  \\\n",
       "743     57           Private  173796       HS-grad              9   \n",
       "23876   43           Private  388725    Assoc-acdm             12   \n",
       "28178   47           Private  110669     Bachelors             13   \n",
       "21508   26           Private  109570  Some-college             10   \n",
       "17881   60  Self-emp-not-inc  146674       HS-grad              9   \n",
       "\n",
       "           marital.status        occupation   relationship   race     sex  \\\n",
       "743    Married-civ-spouse  Transport-moving        Husband  White    Male   \n",
       "23876  Married-civ-spouse             Sales        Husband  White    Male   \n",
       "28178           Separated    Prof-specialty      Unmarried  White  Female   \n",
       "21508           Separated             Sales      Unmarried  White  Female   \n",
       "17881            Divorced      Craft-repair  Not-in-family  Black    Male   \n",
       "\n",
       "       capital.gain  capital.loss  hours.per.week native.country  \n",
       "743               0          1887              40  United-States  \n",
       "23876             0             0              40  United-States  \n",
       "28178             0             0              50  United-States  \n",
       "21508             0             0              35  United-States  \n",
       "17881             0             0              50            NaN  "
      ]
     },
     "execution_count": 626,
     "metadata": {},
     "output_type": "execute_result"
    }
   ],
   "source": [
    "X_test.head()"
   ]
  },
  {
   "cell_type": "markdown",
   "metadata": {},
   "source": [
    "### Now we are ready to deal with missing values however we like."
   ]
  },
  {
   "cell_type": "markdown",
   "metadata": {},
   "source": [
    "> Check how many are there"
   ]
  },
  {
   "cell_type": "code",
   "execution_count": 627,
   "metadata": {},
   "outputs": [
    {
     "data": {
      "text/plain": [
       "age                  0\n",
       "workclass         1491\n",
       "fnlwgt               0\n",
       "education            0\n",
       "education.num        0\n",
       "marital.status       0\n",
       "occupation        1495\n",
       "relationship         0\n",
       "race                 0\n",
       "sex                  0\n",
       "capital.gain         0\n",
       "capital.loss         0\n",
       "hours.per.week       0\n",
       "native.country     458\n",
       "dtype: int64"
      ]
     },
     "execution_count": 627,
     "metadata": {},
     "output_type": "execute_result"
    }
   ],
   "source": [
    "X_train.isna().sum()"
   ]
  },
  {
   "cell_type": "markdown",
   "metadata": {},
   "source": [
    "> We see that there are 3 attributes with NaN values(obviousoly). There corresponding percentages are :"
   ]
  },
  {
   "cell_type": "code",
   "execution_count": 628,
   "metadata": {},
   "outputs": [
    {
     "name": "stdout",
     "output_type": "stream",
     "text": [
      "WorkClass missing value proportion = 6.0% of whole data\n",
      "Occupation missing value proportion = 6.0% of whole data\n",
      "Native COuntry missing value proportion = 2.0% of whole data\n"
     ]
    }
   ],
   "source": [
    "print(\"WorkClass missing value proportion = {}% of whole data\".format(round(1453/X_train.shape[0],2)*100))\n",
    "print(\"Occupation missing value proportion = {}% of whole data\".format(round(1458/X_train.shape[0],2)*100))\n",
    "print(\"Native COuntry missing value proportion = {}% of whole data\".format(round(467/X_train.shape[0],2)*100))"
   ]
  },
  {
   "cell_type": "code",
   "execution_count": 629,
   "metadata": {},
   "outputs": [
    {
     "data": {
      "text/plain": [
       "age                 0\n",
       "workclass         345\n",
       "fnlwgt              0\n",
       "education           0\n",
       "education.num       0\n",
       "marital.status      0\n",
       "occupation        348\n",
       "relationship        0\n",
       "race                0\n",
       "sex                 0\n",
       "capital.gain        0\n",
       "capital.loss        0\n",
       "hours.per.week      0\n",
       "native.country    125\n",
       "dtype: int64"
      ]
     },
     "execution_count": 629,
     "metadata": {},
     "output_type": "execute_result"
    }
   ],
   "source": [
    "X_test.isna().sum()"
   ]
  },
  {
   "cell_type": "code",
   "execution_count": 630,
   "metadata": {},
   "outputs": [
    {
     "name": "stdout",
     "output_type": "stream",
     "text": [
      "WorkClass missing value proportion = 6.0% of whole data\n",
      "Occupation missing value proportion = 6.0% of whole data\n",
      "Native COuntry missing value proportion = 2.0% of whole data\n"
     ]
    }
   ],
   "source": [
    "print(\"WorkClass missing value proportion = {}% of whole data\".format(round(383/X_test.shape[0],2)*100))\n",
    "print(\"Occupation missing value proportion = {}% of whole data\".format(round(385/X_test.shape[0],2)*100))\n",
    "print(\"Native COuntry missing value proportion = {}% of whole data\".format(round(116/X_test.shape[0],2)*100))"
   ]
  },
  {
   "cell_type": "markdown",
   "metadata": {},
   "source": [
    "### How to deal with missing values?\n",
    "> There are majorly 3 ways to deal with missing values\n",
    "1. Drop the row with missing value\n",
    "2. Drop the column with missing value\n",
    "3. Impute missing values with some value (mean,median or mode)"
   ]
  },
  {
   "cell_type": "markdown",
   "metadata": {},
   "source": [
    "### Let's check these 3 attributes to check if we can impute them\n",
    "---"
   ]
  },
  {
   "cell_type": "markdown",
   "metadata": {},
   "source": [
    "#### Attribute 1 - workclass"
   ]
  },
  {
   "cell_type": "code",
   "execution_count": 631,
   "metadata": {},
   "outputs": [
    {
     "data": {
      "application/javascript": [
       "\n",
       "        if (window._pyforest_update_imports_cell) { window._pyforest_update_imports_cell('import matplotlib.pyplot as plt'); }\n",
       "    "
      ],
      "text/plain": [
       "<IPython.core.display.Javascript object>"
      ]
     },
     "metadata": {},
     "output_type": "display_data"
    },
    {
     "data": {
      "text/plain": [
       "<matplotlib.axes._subplots.AxesSubplot at 0x1a379fc110>"
      ]
     },
     "execution_count": 631,
     "metadata": {},
     "output_type": "execute_result"
    },
    {
     "data": {
      "image/png": "[encoded data removed]",
      "text/plain": [
       "<Figure size 1080x360 with 1 Axes>"
      ]
     },
     "metadata": {
      "needs_background": "light"
     },
     "output_type": "display_data"
    }
   ],
   "source": [
    "plt.figure(figsize=(15,5))\n",
    "sns.countplot(X_train.workclass)"
   ]
  },
  {
   "cell_type": "markdown",
   "metadata": {},
   "source": [
    "### As wee see from this simple plot that Private is the dominating type of workclass, we can impute the missing values in workclass with mode i.e Private"
   ]
  },
  {
   "cell_type": "code",
   "execution_count": 632,
   "metadata": {},
   "outputs": [],
   "source": [
    "X_train['workclass'] = X_train['workclass'].fillna('Private')\n",
    "X_test['workclass'] = X_test['workclass'].fillna('Private')"
   ]
  },
  {
   "cell_type": "code",
   "execution_count": 633,
   "metadata": {},
   "outputs": [
    {
     "data": {
      "text/plain": [
       "0"
      ]
     },
     "execution_count": 633,
     "metadata": {},
     "output_type": "execute_result"
    }
   ],
   "source": [
    "X_test.workclass.isna().sum()"
   ]
  },
  {
   "cell_type": "markdown",
   "metadata": {},
   "source": [
    "#### Attribute 2 - Occupation"
   ]
  },
  {
   "cell_type": "code",
   "execution_count": 634,
   "metadata": {},
   "outputs": [
    {
     "data": {
      "application/javascript": [
       "\n",
       "        if (window._pyforest_update_imports_cell) { window._pyforest_update_imports_cell('import matplotlib.pyplot as plt'); }\n",
       "    "
      ],
      "text/plain": [
       "<IPython.core.display.Javascript object>"
      ]
     },
     "metadata": {},
     "output_type": "display_data"
    },
    {
     "data": {
      "text/plain": [
       "<matplotlib.axes._subplots.AxesSubplot at 0x1a379cd990>"
      ]
     },
     "execution_count": 634,
     "metadata": {},
     "output_type": "execute_result"
    },
    {
     "data": {
      "image/png": "[encoded data removed]",
      "text/plain": [
       "<Figure size 1800x360 with 1 Axes>"
      ]
     },
     "metadata": {
      "needs_background": "light"
     },
     "output_type": "display_data"
    }
   ],
   "source": [
    "plt.figure(figsize=(25,5))\n",
    "sns.countplot(X_train.occupation)"
   ]
  },
  {
   "cell_type": "code",
   "execution_count": 635,
   "metadata": {},
   "outputs": [
    {
     "data": {
      "text/plain": [
       "'Prof-specialty'"
      ]
     },
     "execution_count": 635,
     "metadata": {},
     "output_type": "execute_result"
    }
   ],
   "source": [
    "X_train['occupation'].mode()[0]"
   ]
  },
  {
   "cell_type": "markdown",
   "metadata": {},
   "source": [
    "### We can apply same strategy as before\n",
    "> I encourage you to play with more methods of handling missing values like dropping the record(row) with missing values. Check and compare results."
   ]
  },
  {
   "cell_type": "code",
   "execution_count": 636,
   "metadata": {},
   "outputs": [],
   "source": [
    "X_train['occupation'] = X_train['occupation'].fillna(income_data.occupation.mode()[0])\n",
    "X_test['occupation'] = X_test['occupation'].fillna(income_data.occupation.mode()[0])"
   ]
  },
  {
   "cell_type": "code",
   "execution_count": 637,
   "metadata": {},
   "outputs": [
    {
     "data": {
      "text/plain": [
       "0"
      ]
     },
     "execution_count": 637,
     "metadata": {},
     "output_type": "execute_result"
    }
   ],
   "source": [
    "X_test.occupation.isna().sum()"
   ]
  },
  {
   "cell_type": "markdown",
   "metadata": {},
   "source": [
    "#### Attribute 3 - Native Country"
   ]
  },
  {
   "cell_type": "code",
   "execution_count": 638,
   "metadata": {},
   "outputs": [
    {
     "data": {
      "text/plain": [
       "458"
      ]
     },
     "execution_count": 638,
     "metadata": {},
     "output_type": "execute_result"
    }
   ],
   "source": [
    "X_train['native.country'].isna().sum()"
   ]
  },
  {
   "cell_type": "code",
   "execution_count": 639,
   "metadata": {},
   "outputs": [
    {
     "data": {
      "text/plain": [
       "United-States                 23309\n",
       "Mexico                          521\n",
       "Philippines                     166\n",
       "Germany                         101\n",
       "Canada                           98\n",
       "Puerto-Rico                      91\n",
       "El-Salvador                      87\n",
       "India                            86\n",
       "Cuba                             83\n",
       "England                          71\n",
       "Jamaica                          70\n",
       "South                            67\n",
       "China                            60\n",
       "Italy                            57\n",
       "Dominican-Republic               56\n",
       "Vietnam                          54\n",
       "Guatemala                        52\n",
       "Poland                           50\n",
       "Japan                            50\n",
       "Columbia                         48\n",
       "Taiwan                           43\n",
       "Iran                             39\n",
       "Haiti                            35\n",
       "Portugal                         31\n",
       "Nicaragua                        28\n",
       "France                           25\n",
       "Peru                             25\n",
       "Greece                           21\n",
       "Ireland                          21\n",
       "Ecuador                          20\n",
       "Thailand                         15\n",
       "Trinadad&Tobago                  15\n",
       "Hong                             15\n",
       "Laos                             14\n",
       "Cambodia                         14\n",
       "Yugoslavia                       13\n",
       "Outlying-US(Guam-USVI-etc)       12\n",
       "Hungary                          10\n",
       "Honduras                          9\n",
       "Scotland                          7\n",
       "Holand-Netherlands                1\n",
       "Name: native.country, dtype: int64"
      ]
     },
     "execution_count": 639,
     "metadata": {},
     "output_type": "execute_result"
    }
   ],
   "source": [
    "X_train['native.country'].value_counts()"
   ]
  },
  {
   "cell_type": "markdown",
   "metadata": {},
   "source": [
    "> Since almost 89% of the records have native country as United States, we will be replaces missing values with United-States"
   ]
  },
  {
   "cell_type": "code",
   "execution_count": 640,
   "metadata": {},
   "outputs": [],
   "source": [
    "X_train['native.country'] = X_train['native.country'].fillna(X_train['native.country'].mode()[0])\n",
    "X_test['native.country'] = X_test['native.country'].fillna(X_test['native.country'].mode()[0])"
   ]
  },
  {
   "cell_type": "code",
   "execution_count": 641,
   "metadata": {},
   "outputs": [
    {
     "data": {
      "text/plain": [
       "0"
      ]
     },
     "execution_count": 641,
     "metadata": {},
     "output_type": "execute_result"
    }
   ],
   "source": [
    "X_test['native.country'].isna().sum()"
   ]
  },
  {
   "cell_type": "markdown",
   "metadata": {},
   "source": [
    "### Now we don't have any missing or NaN values in our data."
   ]
  },
  {
   "cell_type": "code",
   "execution_count": 642,
   "metadata": {},
   "outputs": [
    {
     "data": {
      "text/plain": [
       "age               0\n",
       "workclass         0\n",
       "fnlwgt            0\n",
       "education         0\n",
       "education.num     0\n",
       "marital.status    0\n",
       "occupation        0\n",
       "relationship      0\n",
       "race              0\n",
       "sex               0\n",
       "capital.gain      0\n",
       "capital.loss      0\n",
       "hours.per.week    0\n",
       "native.country    0\n",
       "dtype: int64"
      ]
     },
     "execution_count": 642,
     "metadata": {},
     "output_type": "execute_result"
    }
   ],
   "source": [
    "X_train.isna().sum()"
   ]
  },
  {
   "cell_type": "code",
   "execution_count": 643,
   "metadata": {},
   "outputs": [
    {
     "data": {
      "text/plain": [
       "age               0\n",
       "workclass         0\n",
       "fnlwgt            0\n",
       "education         0\n",
       "education.num     0\n",
       "marital.status    0\n",
       "occupation        0\n",
       "relationship      0\n",
       "race              0\n",
       "sex               0\n",
       "capital.gain      0\n",
       "capital.loss      0\n",
       "hours.per.week    0\n",
       "native.country    0\n",
       "dtype: int64"
      ]
     },
     "execution_count": 643,
     "metadata": {},
     "output_type": "execute_result"
    }
   ],
   "source": [
    "X_test.isna().sum()"
   ]
  },
  {
   "cell_type": "code",
   "execution_count": 644,
   "metadata": {},
   "outputs": [
    {
     "data": {
      "text/plain": [
       "age               0\n",
       "workclass         0\n",
       "fnlwgt            0\n",
       "education         0\n",
       "education.num     0\n",
       "marital.status    0\n",
       "occupation        0\n",
       "relationship      0\n",
       "race              0\n",
       "sex               0\n",
       "capital.gain      0\n",
       "capital.loss      0\n",
       "hours.per.week    0\n",
       "native.country    0\n",
       "dtype: int64"
      ]
     },
     "execution_count": 644,
     "metadata": {},
     "output_type": "execute_result"
    }
   ],
   "source": [
    "X_train.isnull().sum()"
   ]
  },
  {
   "cell_type": "code",
   "execution_count": 645,
   "metadata": {},
   "outputs": [
    {
     "data": {
      "text/plain": [
       "age               0\n",
       "workclass         0\n",
       "fnlwgt            0\n",
       "education         0\n",
       "education.num     0\n",
       "marital.status    0\n",
       "occupation        0\n",
       "relationship      0\n",
       "race              0\n",
       "sex               0\n",
       "capital.gain      0\n",
       "capital.loss      0\n",
       "hours.per.week    0\n",
       "native.country    0\n",
       "dtype: int64"
      ]
     },
     "execution_count": 645,
     "metadata": {},
     "output_type": "execute_result"
    }
   ],
   "source": [
    "X_test.isnull().sum()"
   ]
  },
  {
   "cell_type": "markdown",
   "metadata": {},
   "source": [
    "<h1 style=\"text-align:center\">Feature Engineering</h1>"
   ]
  },
  {
   "cell_type": "markdown",
   "metadata": {},
   "source": [
    "> Let's first get the statistics of the dataset"
   ]
  },
  {
   "cell_type": "code",
   "execution_count": 646,
   "metadata": {},
   "outputs": [
    {
     "data": {
      "text/html": [
       "<div>\n",
       "<style scoped>\n",
       "    .dataframe tbody tr th:only-of-type {\n",
       "        vertical-align: middle;\n",
       "    }\n",
       "\n",
       "    .dataframe tbody tr th {\n",
       "        vertical-align: top;\n",
       "    }\n",
       "\n",
       "    .dataframe thead th {\n",
       "        text-align: right;\n",
       "    }\n",
       "</style>\n",
       "<table border=\"1\" class=\"dataframe\">\n",
       "  <thead>\n",
       "    <tr style=\"text-align: right;\">\n",
       "      <th></th>\n",
       "      <th>age</th>\n",
       "      <th>fnlwgt</th>\n",
       "      <th>education.num</th>\n",
       "      <th>capital.gain</th>\n",
       "      <th>capital.loss</th>\n",
       "      <th>hours.per.week</th>\n",
       "    </tr>\n",
       "  </thead>\n",
       "  <tbody>\n",
       "    <tr>\n",
       "      <td>count</td>\n",
       "      <td>26048.000000</td>\n",
       "      <td>2.604800e+04</td>\n",
       "      <td>26048.000000</td>\n",
       "      <td>26048.000000</td>\n",
       "      <td>26048.000000</td>\n",
       "      <td>26048.000000</td>\n",
       "    </tr>\n",
       "    <tr>\n",
       "      <td>mean</td>\n",
       "      <td>38.550791</td>\n",
       "      <td>1.899434e+05</td>\n",
       "      <td>10.085227</td>\n",
       "      <td>1080.094633</td>\n",
       "      <td>88.557932</td>\n",
       "      <td>40.390663</td>\n",
       "    </tr>\n",
       "    <tr>\n",
       "      <td>std</td>\n",
       "      <td>13.631355</td>\n",
       "      <td>1.056945e+05</td>\n",
       "      <td>2.575484</td>\n",
       "      <td>7361.783850</td>\n",
       "      <td>406.171490</td>\n",
       "      <td>12.415935</td>\n",
       "    </tr>\n",
       "    <tr>\n",
       "      <td>min</td>\n",
       "      <td>17.000000</td>\n",
       "      <td>1.228500e+04</td>\n",
       "      <td>1.000000</td>\n",
       "      <td>0.000000</td>\n",
       "      <td>0.000000</td>\n",
       "      <td>1.000000</td>\n",
       "    </tr>\n",
       "    <tr>\n",
       "      <td>25%</td>\n",
       "      <td>28.000000</td>\n",
       "      <td>1.182590e+05</td>\n",
       "      <td>9.000000</td>\n",
       "      <td>0.000000</td>\n",
       "      <td>0.000000</td>\n",
       "      <td>40.000000</td>\n",
       "    </tr>\n",
       "    <tr>\n",
       "      <td>50%</td>\n",
       "      <td>37.000000</td>\n",
       "      <td>1.784170e+05</td>\n",
       "      <td>10.000000</td>\n",
       "      <td>0.000000</td>\n",
       "      <td>0.000000</td>\n",
       "      <td>40.000000</td>\n",
       "    </tr>\n",
       "    <tr>\n",
       "      <td>75%</td>\n",
       "      <td>47.000000</td>\n",
       "      <td>2.370545e+05</td>\n",
       "      <td>12.000000</td>\n",
       "      <td>0.000000</td>\n",
       "      <td>0.000000</td>\n",
       "      <td>45.000000</td>\n",
       "    </tr>\n",
       "    <tr>\n",
       "      <td>max</td>\n",
       "      <td>90.000000</td>\n",
       "      <td>1.484705e+06</td>\n",
       "      <td>16.000000</td>\n",
       "      <td>99999.000000</td>\n",
       "      <td>4356.000000</td>\n",
       "      <td>99.000000</td>\n",
       "    </tr>\n",
       "  </tbody>\n",
       "</table>\n",
       "</div>"
      ],
      "text/plain": [
       "                age        fnlwgt  education.num  capital.gain  capital.loss  \\\n",
       "count  26048.000000  2.604800e+04   26048.000000  26048.000000  26048.000000   \n",
       "mean      38.550791  1.899434e+05      10.085227   1080.094633     88.557932   \n",
       "std       13.631355  1.056945e+05       2.575484   7361.783850    406.171490   \n",
       "min       17.000000  1.228500e+04       1.000000      0.000000      0.000000   \n",
       "25%       28.000000  1.182590e+05       9.000000      0.000000      0.000000   \n",
       "50%       37.000000  1.784170e+05      10.000000      0.000000      0.000000   \n",
       "75%       47.000000  2.370545e+05      12.000000      0.000000      0.000000   \n",
       "max       90.000000  1.484705e+06      16.000000  99999.000000   4356.000000   \n",
       "\n",
       "       hours.per.week  \n",
       "count    26048.000000  \n",
       "mean        40.390663  \n",
       "std         12.415935  \n",
       "min          1.000000  \n",
       "25%         40.000000  \n",
       "50%         40.000000  \n",
       "75%         45.000000  \n",
       "max         99.000000  "
      ]
     },
     "execution_count": 646,
     "metadata": {},
     "output_type": "execute_result"
    }
   ],
   "source": [
    "X_train.describe()"
   ]
  },
  {
   "cell_type": "markdown",
   "metadata": {},
   "source": [
    "#### Looking at the above output, it seems like our datasets requires feature scaling.\n",
    "> ! It generally depends on the type of training algorithm you would use. For example, tree based models don't require feature scaling. But it's a good precautionary discipline."
   ]
  },
  {
   "cell_type": "markdown",
   "metadata": {},
   "source": [
    "### Before rescaling the data, let's convert non numeric attributes to numeric attributes"
   ]
  },
  {
   "cell_type": "code",
   "execution_count": 647,
   "metadata": {},
   "outputs": [
    {
     "data": {
      "text/html": [
       "<div>\n",
       "<style scoped>\n",
       "    .dataframe tbody tr th:only-of-type {\n",
       "        vertical-align: middle;\n",
       "    }\n",
       "\n",
       "    .dataframe tbody tr th {\n",
       "        vertical-align: top;\n",
       "    }\n",
       "\n",
       "    .dataframe thead th {\n",
       "        text-align: right;\n",
       "    }\n",
       "</style>\n",
       "<table border=\"1\" class=\"dataframe\">\n",
       "  <thead>\n",
       "    <tr style=\"text-align: right;\">\n",
       "      <th></th>\n",
       "      <th>workclass</th>\n",
       "      <th>education</th>\n",
       "      <th>marital.status</th>\n",
       "      <th>occupation</th>\n",
       "      <th>relationship</th>\n",
       "      <th>race</th>\n",
       "      <th>sex</th>\n",
       "      <th>native.country</th>\n",
       "    </tr>\n",
       "  </thead>\n",
       "  <tbody>\n",
       "    <tr>\n",
       "      <td>18106</td>\n",
       "      <td>Private</td>\n",
       "      <td>10th</td>\n",
       "      <td>Married-civ-spouse</td>\n",
       "      <td>Craft-repair</td>\n",
       "      <td>Husband</td>\n",
       "      <td>White</td>\n",
       "      <td>Male</td>\n",
       "      <td>Portugal</td>\n",
       "    </tr>\n",
       "    <tr>\n",
       "      <td>8008</td>\n",
       "      <td>Private</td>\n",
       "      <td>Assoc-acdm</td>\n",
       "      <td>Married-civ-spouse</td>\n",
       "      <td>Handlers-cleaners</td>\n",
       "      <td>Husband</td>\n",
       "      <td>Black</td>\n",
       "      <td>Male</td>\n",
       "      <td>Jamaica</td>\n",
       "    </tr>\n",
       "    <tr>\n",
       "      <td>30868</td>\n",
       "      <td>Private</td>\n",
       "      <td>Some-college</td>\n",
       "      <td>Married-civ-spouse</td>\n",
       "      <td>Adm-clerical</td>\n",
       "      <td>Husband</td>\n",
       "      <td>White</td>\n",
       "      <td>Male</td>\n",
       "      <td>United-States</td>\n",
       "    </tr>\n",
       "    <tr>\n",
       "      <td>17553</td>\n",
       "      <td>Private</td>\n",
       "      <td>HS-grad</td>\n",
       "      <td>Married-civ-spouse</td>\n",
       "      <td>Adm-clerical</td>\n",
       "      <td>Husband</td>\n",
       "      <td>White</td>\n",
       "      <td>Male</td>\n",
       "      <td>United-States</td>\n",
       "    </tr>\n",
       "    <tr>\n",
       "      <td>27837</td>\n",
       "      <td>Local-gov</td>\n",
       "      <td>Some-college</td>\n",
       "      <td>Divorced</td>\n",
       "      <td>Adm-clerical</td>\n",
       "      <td>Not-in-family</td>\n",
       "      <td>White</td>\n",
       "      <td>Female</td>\n",
       "      <td>United-States</td>\n",
       "    </tr>\n",
       "    <tr>\n",
       "      <td>...</td>\n",
       "      <td>...</td>\n",
       "      <td>...</td>\n",
       "      <td>...</td>\n",
       "      <td>...</td>\n",
       "      <td>...</td>\n",
       "      <td>...</td>\n",
       "      <td>...</td>\n",
       "      <td>...</td>\n",
       "    </tr>\n",
       "    <tr>\n",
       "      <td>23605</td>\n",
       "      <td>Self-emp-not-inc</td>\n",
       "      <td>Assoc-acdm</td>\n",
       "      <td>Married-civ-spouse</td>\n",
       "      <td>Sales</td>\n",
       "      <td>Husband</td>\n",
       "      <td>White</td>\n",
       "      <td>Male</td>\n",
       "      <td>United-States</td>\n",
       "    </tr>\n",
       "    <tr>\n",
       "      <td>20120</td>\n",
       "      <td>Self-emp-not-inc</td>\n",
       "      <td>10th</td>\n",
       "      <td>Married-civ-spouse</td>\n",
       "      <td>Other-service</td>\n",
       "      <td>Husband</td>\n",
       "      <td>White</td>\n",
       "      <td>Male</td>\n",
       "      <td>United-States</td>\n",
       "    </tr>\n",
       "    <tr>\n",
       "      <td>2586</td>\n",
       "      <td>Self-emp-not-inc</td>\n",
       "      <td>Bachelors</td>\n",
       "      <td>Married-civ-spouse</td>\n",
       "      <td>Exec-managerial</td>\n",
       "      <td>Husband</td>\n",
       "      <td>Asian-Pac-Islander</td>\n",
       "      <td>Male</td>\n",
       "      <td>China</td>\n",
       "    </tr>\n",
       "    <tr>\n",
       "      <td>10677</td>\n",
       "      <td>Private</td>\n",
       "      <td>Some-college</td>\n",
       "      <td>Never-married</td>\n",
       "      <td>Handlers-cleaners</td>\n",
       "      <td>Own-child</td>\n",
       "      <td>White</td>\n",
       "      <td>Male</td>\n",
       "      <td>United-States</td>\n",
       "    </tr>\n",
       "    <tr>\n",
       "      <td>19311</td>\n",
       "      <td>Self-emp-inc</td>\n",
       "      <td>HS-grad</td>\n",
       "      <td>Married-civ-spouse</td>\n",
       "      <td>Sales</td>\n",
       "      <td>Husband</td>\n",
       "      <td>White</td>\n",
       "      <td>Male</td>\n",
       "      <td>United-States</td>\n",
       "    </tr>\n",
       "  </tbody>\n",
       "</table>\n",
       "<p>26048 rows × 8 columns</p>\n",
       "</div>"
      ],
      "text/plain": [
       "              workclass     education      marital.status         occupation  \\\n",
       "18106           Private          10th  Married-civ-spouse       Craft-repair   \n",
       "8008            Private    Assoc-acdm  Married-civ-spouse  Handlers-cleaners   \n",
       "30868           Private  Some-college  Married-civ-spouse       Adm-clerical   \n",
       "17553           Private       HS-grad  Married-civ-spouse       Adm-clerical   \n",
       "27837         Local-gov  Some-college            Divorced       Adm-clerical   \n",
       "...                 ...           ...                 ...                ...   \n",
       "23605  Self-emp-not-inc    Assoc-acdm  Married-civ-spouse              Sales   \n",
       "20120  Self-emp-not-inc          10th  Married-civ-spouse      Other-service   \n",
       "2586   Self-emp-not-inc     Bachelors  Married-civ-spouse    Exec-managerial   \n",
       "10677           Private  Some-college       Never-married  Handlers-cleaners   \n",
       "19311      Self-emp-inc       HS-grad  Married-civ-spouse              Sales   \n",
       "\n",
       "        relationship                race     sex native.country  \n",
       "18106        Husband               White    Male       Portugal  \n",
       "8008         Husband               Black    Male        Jamaica  \n",
       "30868        Husband               White    Male  United-States  \n",
       "17553        Husband               White    Male  United-States  \n",
       "27837  Not-in-family               White  Female  United-States  \n",
       "...              ...                 ...     ...            ...  \n",
       "23605        Husband               White    Male  United-States  \n",
       "20120        Husband               White    Male  United-States  \n",
       "2586         Husband  Asian-Pac-Islander    Male          China  \n",
       "10677      Own-child               White    Male  United-States  \n",
       "19311        Husband               White    Male  United-States  \n",
       "\n",
       "[26048 rows x 8 columns]"
      ]
     },
     "execution_count": 647,
     "metadata": {},
     "output_type": "execute_result"
    }
   ],
   "source": [
    "X_train.select_dtypes(include='object')"
   ]
  },
  {
   "cell_type": "markdown",
   "metadata": {},
   "source": [
    "### There are 8 columns that are categorical. We will be encoding them in some way so that they can be used as numeric values"
   ]
  },
  {
   "cell_type": "markdown",
   "metadata": {},
   "source": [
    "> We will first create seperate lists for Nominal and Ordinal attributes"
   ]
  },
  {
   "cell_type": "code",
   "execution_count": 648,
   "metadata": {},
   "outputs": [],
   "source": [
    "nominal_attributes = ['workclass','marital.status','occupation','relationship','race','sex','native.country']\n",
    "ordinal_attributes = ['education']"
   ]
  },
  {
   "cell_type": "markdown",
   "metadata": {},
   "source": [
    "* Since 'education' is an ordinal attribute i.e. it has an order. For example, a person with 7th-8th grade is on a lower level of education as compared to a Bachelor\n",
    "\n",
    "* We can encode it with OrdinalEncoder class of sklearn but since we have an attribute named 'education.num', it represents the encodings of the education attribute.\n",
    "\n",
    "* We will now drop the education attribute"
   ]
  },
  {
   "cell_type": "code",
   "execution_count": 649,
   "metadata": {},
   "outputs": [],
   "source": [
    "X_train.drop(['education'],axis=1,inplace=True)"
   ]
  },
  {
   "cell_type": "code",
   "execution_count": 650,
   "metadata": {},
   "outputs": [],
   "source": [
    "X_test.drop(['education'],axis=1,inplace=True)"
   ]
  },
  {
   "cell_type": "code",
   "execution_count": 651,
   "metadata": {},
   "outputs": [
    {
     "data": {
      "text/html": [
       "<div>\n",
       "<style scoped>\n",
       "    .dataframe tbody tr th:only-of-type {\n",
       "        vertical-align: middle;\n",
       "    }\n",
       "\n",
       "    .dataframe tbody tr th {\n",
       "        vertical-align: top;\n",
       "    }\n",
       "\n",
       "    .dataframe thead th {\n",
       "        text-align: right;\n",
       "    }\n",
       "</style>\n",
       "<table border=\"1\" class=\"dataframe\">\n",
       "  <thead>\n",
       "    <tr style=\"text-align: right;\">\n",
       "      <th></th>\n",
       "      <th>age</th>\n",
       "      <th>workclass</th>\n",
       "      <th>fnlwgt</th>\n",
       "      <th>education.num</th>\n",
       "      <th>marital.status</th>\n",
       "      <th>occupation</th>\n",
       "      <th>relationship</th>\n",
       "      <th>race</th>\n",
       "      <th>sex</th>\n",
       "      <th>capital.gain</th>\n",
       "      <th>capital.loss</th>\n",
       "      <th>hours.per.week</th>\n",
       "      <th>native.country</th>\n",
       "    </tr>\n",
       "  </thead>\n",
       "  <tbody>\n",
       "    <tr>\n",
       "      <td>18106</td>\n",
       "      <td>23</td>\n",
       "      <td>Private</td>\n",
       "      <td>60668</td>\n",
       "      <td>6</td>\n",
       "      <td>Married-civ-spouse</td>\n",
       "      <td>Craft-repair</td>\n",
       "      <td>Husband</td>\n",
       "      <td>White</td>\n",
       "      <td>Male</td>\n",
       "      <td>0</td>\n",
       "      <td>0</td>\n",
       "      <td>40</td>\n",
       "      <td>Portugal</td>\n",
       "    </tr>\n",
       "    <tr>\n",
       "      <td>8008</td>\n",
       "      <td>25</td>\n",
       "      <td>Private</td>\n",
       "      <td>125159</td>\n",
       "      <td>12</td>\n",
       "      <td>Married-civ-spouse</td>\n",
       "      <td>Handlers-cleaners</td>\n",
       "      <td>Husband</td>\n",
       "      <td>Black</td>\n",
       "      <td>Male</td>\n",
       "      <td>0</td>\n",
       "      <td>0</td>\n",
       "      <td>40</td>\n",
       "      <td>Jamaica</td>\n",
       "    </tr>\n",
       "    <tr>\n",
       "      <td>30868</td>\n",
       "      <td>45</td>\n",
       "      <td>Private</td>\n",
       "      <td>343377</td>\n",
       "      <td>10</td>\n",
       "      <td>Married-civ-spouse</td>\n",
       "      <td>Adm-clerical</td>\n",
       "      <td>Husband</td>\n",
       "      <td>White</td>\n",
       "      <td>Male</td>\n",
       "      <td>0</td>\n",
       "      <td>0</td>\n",
       "      <td>40</td>\n",
       "      <td>United-States</td>\n",
       "    </tr>\n",
       "    <tr>\n",
       "      <td>17553</td>\n",
       "      <td>30</td>\n",
       "      <td>Private</td>\n",
       "      <td>173005</td>\n",
       "      <td>9</td>\n",
       "      <td>Married-civ-spouse</td>\n",
       "      <td>Adm-clerical</td>\n",
       "      <td>Husband</td>\n",
       "      <td>White</td>\n",
       "      <td>Male</td>\n",
       "      <td>0</td>\n",
       "      <td>0</td>\n",
       "      <td>44</td>\n",
       "      <td>United-States</td>\n",
       "    </tr>\n",
       "    <tr>\n",
       "      <td>27837</td>\n",
       "      <td>47</td>\n",
       "      <td>Local-gov</td>\n",
       "      <td>93618</td>\n",
       "      <td>10</td>\n",
       "      <td>Divorced</td>\n",
       "      <td>Adm-clerical</td>\n",
       "      <td>Not-in-family</td>\n",
       "      <td>White</td>\n",
       "      <td>Female</td>\n",
       "      <td>0</td>\n",
       "      <td>0</td>\n",
       "      <td>33</td>\n",
       "      <td>United-States</td>\n",
       "    </tr>\n",
       "  </tbody>\n",
       "</table>\n",
       "</div>"
      ],
      "text/plain": [
       "       age  workclass  fnlwgt  education.num      marital.status  \\\n",
       "18106   23    Private   60668              6  Married-civ-spouse   \n",
       "8008    25    Private  125159             12  Married-civ-spouse   \n",
       "30868   45    Private  343377             10  Married-civ-spouse   \n",
       "17553   30    Private  173005              9  Married-civ-spouse   \n",
       "27837   47  Local-gov   93618             10            Divorced   \n",
       "\n",
       "              occupation   relationship   race     sex  capital.gain  \\\n",
       "18106       Craft-repair        Husband  White    Male             0   \n",
       "8008   Handlers-cleaners        Husband  Black    Male             0   \n",
       "30868       Adm-clerical        Husband  White    Male             0   \n",
       "17553       Adm-clerical        Husband  White    Male             0   \n",
       "27837       Adm-clerical  Not-in-family  White  Female             0   \n",
       "\n",
       "       capital.loss  hours.per.week native.country  \n",
       "18106             0              40       Portugal  \n",
       "8008              0              40        Jamaica  \n",
       "30868             0              40  United-States  \n",
       "17553             0              44  United-States  \n",
       "27837             0              33  United-States  "
      ]
     },
     "execution_count": 651,
     "metadata": {},
     "output_type": "execute_result"
    }
   ],
   "source": [
    "X_train.head()"
   ]
  },
  {
   "cell_type": "markdown",
   "metadata": {},
   "source": [
    "#### Handling nominal attributes"
   ]
  },
  {
   "cell_type": "markdown",
   "metadata": {},
   "source": [
    "* We can encode nominal attributes with variety of ways. Some of them are:\n",
    "    1. One Hot Encoding \n",
    "    2. Target Encoding\n",
    "    3. Hashing \n"
   ]
  },
  {
   "cell_type": "markdown",
   "metadata": {},
   "source": [
    "> We will be using Target Encoding and replacing categories with mean of targets for that particular category"
   ]
  },
  {
   "cell_type": "code",
   "execution_count": 652,
   "metadata": {},
   "outputs": [],
   "source": [
    "def target_encoder(attribute,target):\n",
    "    X_train_copy = X_train.copy()\n",
    "    X_train_copy['income'] = target\n",
    "    encoding_map = {}\n",
    "    unique_values = X_train_copy[attribute].unique()\n",
    "    for value in unique_values:\n",
    "        encoding_map[value] = round(X_train_copy[X_train_copy[attribute] == value]['income'].mean(),2)\n",
    "        \n",
    "    return encoding_map\n",
    "    "
   ]
  },
  {
   "cell_type": "markdown",
   "metadata": {},
   "source": [
    "> We will skip target encoding for race and sex attributes because they will be One Hot Encoded because they have low cardinality"
   ]
  },
  {
   "cell_type": "code",
   "execution_count": 653,
   "metadata": {},
   "outputs": [],
   "source": [
    "for attribute in nominal_attributes:\n",
    "    if attribute not in ['race','sex']:\n",
    "        encoding = target_encoder(attribute,y_train)\n",
    "        X_train[attribute] = X_train[attribute].map(encoding)\n",
    "        X_test[attribute] = X_test[attribute].map(encoding)"
   ]
  },
  {
   "cell_type": "code",
   "execution_count": 654,
   "metadata": {},
   "outputs": [
    {
     "data": {
      "text/html": [
       "<div>\n",
       "<style scoped>\n",
       "    .dataframe tbody tr th:only-of-type {\n",
       "        vertical-align: middle;\n",
       "    }\n",
       "\n",
       "    .dataframe tbody tr th {\n",
       "        vertical-align: top;\n",
       "    }\n",
       "\n",
       "    .dataframe thead th {\n",
       "        text-align: right;\n",
       "    }\n",
       "</style>\n",
       "<table border=\"1\" class=\"dataframe\">\n",
       "  <thead>\n",
       "    <tr style=\"text-align: right;\">\n",
       "      <th></th>\n",
       "      <th>age</th>\n",
       "      <th>workclass</th>\n",
       "      <th>fnlwgt</th>\n",
       "      <th>education.num</th>\n",
       "      <th>marital.status</th>\n",
       "      <th>occupation</th>\n",
       "      <th>relationship</th>\n",
       "      <th>race</th>\n",
       "      <th>sex</th>\n",
       "      <th>capital.gain</th>\n",
       "      <th>capital.loss</th>\n",
       "      <th>hours.per.week</th>\n",
       "      <th>native.country</th>\n",
       "    </tr>\n",
       "  </thead>\n",
       "  <tbody>\n",
       "    <tr>\n",
       "      <td>18106</td>\n",
       "      <td>23</td>\n",
       "      <td>0.21</td>\n",
       "      <td>60668</td>\n",
       "      <td>6</td>\n",
       "      <td>0.45</td>\n",
       "      <td>0.22</td>\n",
       "      <td>0.45</td>\n",
       "      <td>White</td>\n",
       "      <td>Male</td>\n",
       "      <td>0</td>\n",
       "      <td>0</td>\n",
       "      <td>40</td>\n",
       "      <td>0.10</td>\n",
       "    </tr>\n",
       "    <tr>\n",
       "      <td>8008</td>\n",
       "      <td>25</td>\n",
       "      <td>0.21</td>\n",
       "      <td>125159</td>\n",
       "      <td>12</td>\n",
       "      <td>0.45</td>\n",
       "      <td>0.05</td>\n",
       "      <td>0.45</td>\n",
       "      <td>Black</td>\n",
       "      <td>Male</td>\n",
       "      <td>0</td>\n",
       "      <td>0</td>\n",
       "      <td>40</td>\n",
       "      <td>0.10</td>\n",
       "    </tr>\n",
       "    <tr>\n",
       "      <td>30868</td>\n",
       "      <td>45</td>\n",
       "      <td>0.21</td>\n",
       "      <td>343377</td>\n",
       "      <td>10</td>\n",
       "      <td>0.45</td>\n",
       "      <td>0.13</td>\n",
       "      <td>0.45</td>\n",
       "      <td>White</td>\n",
       "      <td>Male</td>\n",
       "      <td>0</td>\n",
       "      <td>0</td>\n",
       "      <td>40</td>\n",
       "      <td>0.25</td>\n",
       "    </tr>\n",
       "    <tr>\n",
       "      <td>17553</td>\n",
       "      <td>30</td>\n",
       "      <td>0.21</td>\n",
       "      <td>173005</td>\n",
       "      <td>9</td>\n",
       "      <td>0.45</td>\n",
       "      <td>0.13</td>\n",
       "      <td>0.45</td>\n",
       "      <td>White</td>\n",
       "      <td>Male</td>\n",
       "      <td>0</td>\n",
       "      <td>0</td>\n",
       "      <td>44</td>\n",
       "      <td>0.25</td>\n",
       "    </tr>\n",
       "    <tr>\n",
       "      <td>27837</td>\n",
       "      <td>47</td>\n",
       "      <td>0.29</td>\n",
       "      <td>93618</td>\n",
       "      <td>10</td>\n",
       "      <td>0.11</td>\n",
       "      <td>0.13</td>\n",
       "      <td>0.10</td>\n",
       "      <td>White</td>\n",
       "      <td>Female</td>\n",
       "      <td>0</td>\n",
       "      <td>0</td>\n",
       "      <td>33</td>\n",
       "      <td>0.25</td>\n",
       "    </tr>\n",
       "  </tbody>\n",
       "</table>\n",
       "</div>"
      ],
      "text/plain": [
       "       age  workclass  fnlwgt  education.num  marital.status  occupation  \\\n",
       "18106   23       0.21   60668              6            0.45        0.22   \n",
       "8008    25       0.21  125159             12            0.45        0.05   \n",
       "30868   45       0.21  343377             10            0.45        0.13   \n",
       "17553   30       0.21  173005              9            0.45        0.13   \n",
       "27837   47       0.29   93618             10            0.11        0.13   \n",
       "\n",
       "       relationship   race     sex  capital.gain  capital.loss  \\\n",
       "18106          0.45  White    Male             0             0   \n",
       "8008           0.45  Black    Male             0             0   \n",
       "30868          0.45  White    Male             0             0   \n",
       "17553          0.45  White    Male             0             0   \n",
       "27837          0.10  White  Female             0             0   \n",
       "\n",
       "       hours.per.week  native.country  \n",
       "18106              40            0.10  \n",
       "8008               40            0.10  \n",
       "30868              40            0.25  \n",
       "17553              44            0.25  \n",
       "27837              33            0.25  "
      ]
     },
     "execution_count": 654,
     "metadata": {},
     "output_type": "execute_result"
    }
   ],
   "source": [
    "X_train.head()"
   ]
  },
  {
   "cell_type": "code",
   "execution_count": 655,
   "metadata": {},
   "outputs": [
    {
     "data": {
      "text/html": [
       "<div>\n",
       "<style scoped>\n",
       "    .dataframe tbody tr th:only-of-type {\n",
       "        vertical-align: middle;\n",
       "    }\n",
       "\n",
       "    .dataframe tbody tr th {\n",
       "        vertical-align: top;\n",
       "    }\n",
       "\n",
       "    .dataframe thead th {\n",
       "        text-align: right;\n",
       "    }\n",
       "</style>\n",
       "<table border=\"1\" class=\"dataframe\">\n",
       "  <thead>\n",
       "    <tr style=\"text-align: right;\">\n",
       "      <th></th>\n",
       "      <th>age</th>\n",
       "      <th>workclass</th>\n",
       "      <th>fnlwgt</th>\n",
       "      <th>education.num</th>\n",
       "      <th>marital.status</th>\n",
       "      <th>occupation</th>\n",
       "      <th>relationship</th>\n",
       "      <th>race</th>\n",
       "      <th>sex</th>\n",
       "      <th>capital.gain</th>\n",
       "      <th>capital.loss</th>\n",
       "      <th>hours.per.week</th>\n",
       "      <th>native.country</th>\n",
       "    </tr>\n",
       "  </thead>\n",
       "  <tbody>\n",
       "    <tr>\n",
       "      <td>743</td>\n",
       "      <td>57</td>\n",
       "      <td>0.21</td>\n",
       "      <td>173796</td>\n",
       "      <td>9</td>\n",
       "      <td>0.45</td>\n",
       "      <td>0.19</td>\n",
       "      <td>0.45</td>\n",
       "      <td>White</td>\n",
       "      <td>Male</td>\n",
       "      <td>0</td>\n",
       "      <td>1887</td>\n",
       "      <td>40</td>\n",
       "      <td>0.25</td>\n",
       "    </tr>\n",
       "    <tr>\n",
       "      <td>23876</td>\n",
       "      <td>43</td>\n",
       "      <td>0.21</td>\n",
       "      <td>388725</td>\n",
       "      <td>12</td>\n",
       "      <td>0.45</td>\n",
       "      <td>0.27</td>\n",
       "      <td>0.45</td>\n",
       "      <td>White</td>\n",
       "      <td>Male</td>\n",
       "      <td>0</td>\n",
       "      <td>0</td>\n",
       "      <td>40</td>\n",
       "      <td>0.25</td>\n",
       "    </tr>\n",
       "    <tr>\n",
       "      <td>28178</td>\n",
       "      <td>47</td>\n",
       "      <td>0.21</td>\n",
       "      <td>110669</td>\n",
       "      <td>13</td>\n",
       "      <td>0.06</td>\n",
       "      <td>0.34</td>\n",
       "      <td>0.06</td>\n",
       "      <td>White</td>\n",
       "      <td>Female</td>\n",
       "      <td>0</td>\n",
       "      <td>0</td>\n",
       "      <td>50</td>\n",
       "      <td>0.25</td>\n",
       "    </tr>\n",
       "    <tr>\n",
       "      <td>21508</td>\n",
       "      <td>26</td>\n",
       "      <td>0.21</td>\n",
       "      <td>109570</td>\n",
       "      <td>10</td>\n",
       "      <td>0.06</td>\n",
       "      <td>0.27</td>\n",
       "      <td>0.06</td>\n",
       "      <td>White</td>\n",
       "      <td>Female</td>\n",
       "      <td>0</td>\n",
       "      <td>0</td>\n",
       "      <td>35</td>\n",
       "      <td>0.25</td>\n",
       "    </tr>\n",
       "    <tr>\n",
       "      <td>17881</td>\n",
       "      <td>60</td>\n",
       "      <td>0.28</td>\n",
       "      <td>146674</td>\n",
       "      <td>9</td>\n",
       "      <td>0.11</td>\n",
       "      <td>0.22</td>\n",
       "      <td>0.10</td>\n",
       "      <td>Black</td>\n",
       "      <td>Male</td>\n",
       "      <td>0</td>\n",
       "      <td>0</td>\n",
       "      <td>50</td>\n",
       "      <td>0.25</td>\n",
       "    </tr>\n",
       "  </tbody>\n",
       "</table>\n",
       "</div>"
      ],
      "text/plain": [
       "       age  workclass  fnlwgt  education.num  marital.status  occupation  \\\n",
       "743     57       0.21  173796              9            0.45        0.19   \n",
       "23876   43       0.21  388725             12            0.45        0.27   \n",
       "28178   47       0.21  110669             13            0.06        0.34   \n",
       "21508   26       0.21  109570             10            0.06        0.27   \n",
       "17881   60       0.28  146674              9            0.11        0.22   \n",
       "\n",
       "       relationship   race     sex  capital.gain  capital.loss  \\\n",
       "743            0.45  White    Male             0          1887   \n",
       "23876          0.45  White    Male             0             0   \n",
       "28178          0.06  White  Female             0             0   \n",
       "21508          0.06  White  Female             0             0   \n",
       "17881          0.10  Black    Male             0             0   \n",
       "\n",
       "       hours.per.week  native.country  \n",
       "743                40            0.25  \n",
       "23876              40            0.25  \n",
       "28178              50            0.25  \n",
       "21508              35            0.25  \n",
       "17881              50            0.25  "
      ]
     },
     "execution_count": 655,
     "metadata": {},
     "output_type": "execute_result"
    }
   ],
   "source": [
    "X_test.head()"
   ]
  },
  {
   "cell_type": "markdown",
   "metadata": {},
   "source": [
    "## Now all of our attributes with high cardinality are encoded as numericals.\n",
    "## We will now handle low cardinality attributes i.e. race & sex\n",
    "> We will be using OneHotEncoder class of sklearn"
   ]
  },
  {
   "cell_type": "code",
   "execution_count": 656,
   "metadata": {},
   "outputs": [],
   "source": [
    "from sklearn.preprocessing import OneHotEncoder"
   ]
  },
  {
   "cell_type": "code",
   "execution_count": 657,
   "metadata": {},
   "outputs": [],
   "source": [
    "one_hot_encoder = OneHotEncoder(handle_unknown='ignore')"
   ]
  },
  {
   "cell_type": "code",
   "execution_count": 658,
   "metadata": {},
   "outputs": [],
   "source": [
    "X_train=X_train.reset_index(drop=True)\n",
    "X_test=X_test.reset_index(drop=True)"
   ]
  },
  {
   "cell_type": "code",
   "execution_count": 659,
   "metadata": {},
   "outputs": [],
   "source": [
    "def oneHotEncode(X_train,X_test,attribute):\n",
    "    train_encodings = one_hot_encoder.fit_transform(X_train[[attribute]]).toarray()\n",
    "    test_encodings = one_hot_encoder.transform(X_test[[attribute]]).toarray()\n",
    "    train_encodings_df = pd.DataFrame(train_encodings,columns=X_train[attribute].unique())\n",
    "    test_encodings_df = pd.DataFrame(test_encodings,columns=X_train[attribute].unique())\n",
    "    X_train = X_train.join(train_encodings_df)\n",
    "    X_test = X_test.join(test_encodings_df)\n",
    "    X_train.drop(attribute,axis=1,inplace=True)\n",
    "    X_test.drop(attribute,axis=1,inplace=True)\n",
    "    return X_train,X_test\n",
    "    \n",
    "    \n",
    "    "
   ]
  },
  {
   "cell_type": "code",
   "execution_count": 660,
   "metadata": {},
   "outputs": [],
   "source": [
    "for i in ['race','sex']:\n",
    "    X_train,X_test = oneHotEncode(X_train,X_test,i)"
   ]
  },
  {
   "cell_type": "markdown",
   "metadata": {},
   "source": [
    "### IMPORTANT\n",
    "---\n",
    "> Since after one hot encoding sex attribute, we get two attributes Male and Female. We can drop one of them for obvious reasons"
   ]
  },
  {
   "cell_type": "code",
   "execution_count": 661,
   "metadata": {},
   "outputs": [],
   "source": [
    "X_train.drop('Male',inplace=True,axis=1)\n",
    "X_test.drop('Male',inplace=True,axis=1)"
   ]
  },
  {
   "cell_type": "markdown",
   "metadata": {},
   "source": [
    "---\n",
    "## Now all of our attributes are numericals.\n",
    "> Now we will be performing feature scaling to bring them to the same scale"
   ]
  },
  {
   "cell_type": "code",
   "execution_count": 662,
   "metadata": {},
   "outputs": [],
   "source": [
    "from sklearn.preprocessing import StandardScaler"
   ]
  },
  {
   "cell_type": "code",
   "execution_count": 663,
   "metadata": {},
   "outputs": [],
   "source": [
    "scaler = StandardScaler()"
   ]
  },
  {
   "cell_type": "code",
   "execution_count": 664,
   "metadata": {},
   "outputs": [],
   "source": [
    "scaled_X_train = scaler.fit_transform(X_train)\n",
    "\n",
    "X_train = pd.DataFrame(scaled_X_train,columns=X_train.columns)"
   ]
  },
  {
   "cell_type": "code",
   "execution_count": 665,
   "metadata": {},
   "outputs": [],
   "source": [
    "scaled_X_test = scaler.transform(X_test)\n",
    "X_test = pd.DataFrame(scaled_X_test,columns=X_test.columns)"
   ]
  },
  {
   "cell_type": "code",
   "execution_count": 666,
   "metadata": {},
   "outputs": [
    {
     "data": {
      "text/html": [
       "<div>\n",
       "<style scoped>\n",
       "    .dataframe tbody tr th:only-of-type {\n",
       "        vertical-align: middle;\n",
       "    }\n",
       "\n",
       "    .dataframe tbody tr th {\n",
       "        vertical-align: top;\n",
       "    }\n",
       "\n",
       "    .dataframe thead th {\n",
       "        text-align: right;\n",
       "    }\n",
       "</style>\n",
       "<table border=\"1\" class=\"dataframe\">\n",
       "  <thead>\n",
       "    <tr style=\"text-align: right;\">\n",
       "      <th></th>\n",
       "      <th>age</th>\n",
       "      <th>workclass</th>\n",
       "      <th>fnlwgt</th>\n",
       "      <th>education.num</th>\n",
       "      <th>marital.status</th>\n",
       "      <th>occupation</th>\n",
       "      <th>relationship</th>\n",
       "      <th>capital.gain</th>\n",
       "      <th>capital.loss</th>\n",
       "      <th>hours.per.week</th>\n",
       "      <th>native.country</th>\n",
       "      <th>White</th>\n",
       "      <th>Black</th>\n",
       "      <th>Other</th>\n",
       "      <th>Asian-Pac-Islander</th>\n",
       "      <th>Amer-Indian-Eskimo</th>\n",
       "      <th>Female</th>\n",
       "    </tr>\n",
       "  </thead>\n",
       "  <tbody>\n",
       "    <tr>\n",
       "      <td>0</td>\n",
       "      <td>1.353465</td>\n",
       "      <td>-0.410718</td>\n",
       "      <td>-0.152777</td>\n",
       "      <td>-0.421376</td>\n",
       "      <td>1.082271</td>\n",
       "      <td>-0.357618</td>\n",
       "      <td>1.075243</td>\n",
       "      <td>-0.146719</td>\n",
       "      <td>4.427875</td>\n",
       "      <td>-0.031465</td>\n",
       "      <td>0.121757</td>\n",
       "      <td>-0.098441</td>\n",
       "      <td>-0.182433</td>\n",
       "      <td>-0.326120</td>\n",
       "      <td>-0.088626</td>\n",
       "      <td>0.413027</td>\n",
       "      <td>0.702307</td>\n",
       "    </tr>\n",
       "    <tr>\n",
       "      <td>1</td>\n",
       "      <td>0.326401</td>\n",
       "      <td>-0.410718</td>\n",
       "      <td>1.880755</td>\n",
       "      <td>0.743476</td>\n",
       "      <td>1.082271</td>\n",
       "      <td>0.229122</td>\n",
       "      <td>1.075243</td>\n",
       "      <td>-0.146719</td>\n",
       "      <td>-0.218035</td>\n",
       "      <td>-0.031465</td>\n",
       "      <td>0.121757</td>\n",
       "      <td>-0.098441</td>\n",
       "      <td>-0.182433</td>\n",
       "      <td>-0.326120</td>\n",
       "      <td>-0.088626</td>\n",
       "      <td>0.413027</td>\n",
       "      <td>0.702307</td>\n",
       "    </tr>\n",
       "    <tr>\n",
       "      <td>2</td>\n",
       "      <td>0.619848</td>\n",
       "      <td>-0.410718</td>\n",
       "      <td>-0.750047</td>\n",
       "      <td>1.131760</td>\n",
       "      <td>-0.961143</td>\n",
       "      <td>0.742519</td>\n",
       "      <td>-0.912057</td>\n",
       "      <td>-0.146719</td>\n",
       "      <td>-0.218035</td>\n",
       "      <td>0.773967</td>\n",
       "      <td>0.121757</td>\n",
       "      <td>-0.098441</td>\n",
       "      <td>-0.182433</td>\n",
       "      <td>-0.326120</td>\n",
       "      <td>-0.088626</td>\n",
       "      <td>0.413027</td>\n",
       "      <td>-1.423878</td>\n",
       "    </tr>\n",
       "    <tr>\n",
       "      <td>3</td>\n",
       "      <td>-0.920747</td>\n",
       "      <td>-0.410718</td>\n",
       "      <td>-0.760446</td>\n",
       "      <td>-0.033092</td>\n",
       "      <td>-0.961143</td>\n",
       "      <td>0.229122</td>\n",
       "      <td>-0.912057</td>\n",
       "      <td>-0.146719</td>\n",
       "      <td>-0.218035</td>\n",
       "      <td>-0.434181</td>\n",
       "      <td>0.121757</td>\n",
       "      <td>-0.098441</td>\n",
       "      <td>-0.182433</td>\n",
       "      <td>-0.326120</td>\n",
       "      <td>-0.088626</td>\n",
       "      <td>0.413027</td>\n",
       "      <td>-1.423878</td>\n",
       "    </tr>\n",
       "    <tr>\n",
       "      <td>4</td>\n",
       "      <td>1.573550</td>\n",
       "      <td>0.544348</td>\n",
       "      <td>-0.409389</td>\n",
       "      <td>-0.421376</td>\n",
       "      <td>-0.699167</td>\n",
       "      <td>-0.137590</td>\n",
       "      <td>-0.708231</td>\n",
       "      <td>-0.146719</td>\n",
       "      <td>-0.218035</td>\n",
       "      <td>0.773967</td>\n",
       "      <td>0.121757</td>\n",
       "      <td>-0.098441</td>\n",
       "      <td>-0.182433</td>\n",
       "      <td>3.066359</td>\n",
       "      <td>-0.088626</td>\n",
       "      <td>-2.421148</td>\n",
       "      <td>0.702307</td>\n",
       "    </tr>\n",
       "  </tbody>\n",
       "</table>\n",
       "</div>"
      ],
      "text/plain": [
       "        age  workclass    fnlwgt  education.num  marital.status  occupation  \\\n",
       "0  1.353465  -0.410718 -0.152777      -0.421376        1.082271   -0.357618   \n",
       "1  0.326401  -0.410718  1.880755       0.743476        1.082271    0.229122   \n",
       "2  0.619848  -0.410718 -0.750047       1.131760       -0.961143    0.742519   \n",
       "3 -0.920747  -0.410718 -0.760446      -0.033092       -0.961143    0.229122   \n",
       "4  1.573550   0.544348 -0.409389      -0.421376       -0.699167   -0.137590   \n",
       "\n",
       "   relationship  capital.gain  capital.loss  hours.per.week  native.country  \\\n",
       "0      1.075243     -0.146719      4.427875       -0.031465        0.121757   \n",
       "1      1.075243     -0.146719     -0.218035       -0.031465        0.121757   \n",
       "2     -0.912057     -0.146719     -0.218035        0.773967        0.121757   \n",
       "3     -0.912057     -0.146719     -0.218035       -0.434181        0.121757   \n",
       "4     -0.708231     -0.146719     -0.218035        0.773967        0.121757   \n",
       "\n",
       "      White     Black     Other  Asian-Pac-Islander  Amer-Indian-Eskimo  \\\n",
       "0 -0.098441 -0.182433 -0.326120           -0.088626            0.413027   \n",
       "1 -0.098441 -0.182433 -0.326120           -0.088626            0.413027   \n",
       "2 -0.098441 -0.182433 -0.326120           -0.088626            0.413027   \n",
       "3 -0.098441 -0.182433 -0.326120           -0.088626            0.413027   \n",
       "4 -0.098441 -0.182433  3.066359           -0.088626           -2.421148   \n",
       "\n",
       "     Female  \n",
       "0  0.702307  \n",
       "1  0.702307  \n",
       "2 -1.423878  \n",
       "3 -1.423878  \n",
       "4  0.702307  "
      ]
     },
     "execution_count": 666,
     "metadata": {},
     "output_type": "execute_result"
    }
   ],
   "source": [
    "X_test.head()"
   ]
  },
  {
   "cell_type": "code",
   "execution_count": 667,
   "metadata": {},
   "outputs": [
    {
     "data": {
      "text/html": [
       "<div>\n",
       "<style scoped>\n",
       "    .dataframe tbody tr th:only-of-type {\n",
       "        vertical-align: middle;\n",
       "    }\n",
       "\n",
       "    .dataframe tbody tr th {\n",
       "        vertical-align: top;\n",
       "    }\n",
       "\n",
       "    .dataframe thead th {\n",
       "        text-align: right;\n",
       "    }\n",
       "</style>\n",
       "<table border=\"1\" class=\"dataframe\">\n",
       "  <thead>\n",
       "    <tr style=\"text-align: right;\">\n",
       "      <th></th>\n",
       "      <th>age</th>\n",
       "      <th>workclass</th>\n",
       "      <th>fnlwgt</th>\n",
       "      <th>education.num</th>\n",
       "      <th>marital.status</th>\n",
       "      <th>occupation</th>\n",
       "      <th>relationship</th>\n",
       "      <th>capital.gain</th>\n",
       "      <th>capital.loss</th>\n",
       "      <th>hours.per.week</th>\n",
       "      <th>native.country</th>\n",
       "      <th>White</th>\n",
       "      <th>Black</th>\n",
       "      <th>Other</th>\n",
       "      <th>Asian-Pac-Islander</th>\n",
       "      <th>Amer-Indian-Eskimo</th>\n",
       "      <th>Female</th>\n",
       "    </tr>\n",
       "  </thead>\n",
       "  <tbody>\n",
       "    <tr>\n",
       "      <td>0</td>\n",
       "      <td>-1.140832</td>\n",
       "      <td>-0.410718</td>\n",
       "      <td>-1.223127</td>\n",
       "      <td>-1.586228</td>\n",
       "      <td>1.082271</td>\n",
       "      <td>-0.137590</td>\n",
       "      <td>1.075243</td>\n",
       "      <td>-0.146719</td>\n",
       "      <td>-0.218035</td>\n",
       "      <td>-0.031465</td>\n",
       "      <td>-3.218806</td>\n",
       "      <td>-0.098441</td>\n",
       "      <td>-0.182433</td>\n",
       "      <td>-0.326120</td>\n",
       "      <td>-0.088626</td>\n",
       "      <td>0.413027</td>\n",
       "      <td>0.702307</td>\n",
       "    </tr>\n",
       "    <tr>\n",
       "      <td>1</td>\n",
       "      <td>-0.994109</td>\n",
       "      <td>-0.410718</td>\n",
       "      <td>-0.612952</td>\n",
       "      <td>0.743476</td>\n",
       "      <td>1.082271</td>\n",
       "      <td>-1.384411</td>\n",
       "      <td>1.075243</td>\n",
       "      <td>-0.146719</td>\n",
       "      <td>-0.218035</td>\n",
       "      <td>-0.031465</td>\n",
       "      <td>-3.218806</td>\n",
       "      <td>-0.098441</td>\n",
       "      <td>-0.182433</td>\n",
       "      <td>3.066359</td>\n",
       "      <td>-0.088626</td>\n",
       "      <td>-2.421148</td>\n",
       "      <td>0.702307</td>\n",
       "    </tr>\n",
       "    <tr>\n",
       "      <td>2</td>\n",
       "      <td>0.473125</td>\n",
       "      <td>-0.410718</td>\n",
       "      <td>1.451698</td>\n",
       "      <td>-0.033092</td>\n",
       "      <td>1.082271</td>\n",
       "      <td>-0.797672</td>\n",
       "      <td>1.075243</td>\n",
       "      <td>-0.146719</td>\n",
       "      <td>-0.218035</td>\n",
       "      <td>-0.031465</td>\n",
       "      <td>0.121757</td>\n",
       "      <td>-0.098441</td>\n",
       "      <td>-0.182433</td>\n",
       "      <td>-0.326120</td>\n",
       "      <td>-0.088626</td>\n",
       "      <td>0.413027</td>\n",
       "      <td>0.702307</td>\n",
       "    </tr>\n",
       "    <tr>\n",
       "      <td>3</td>\n",
       "      <td>-0.627300</td>\n",
       "      <td>-0.410718</td>\n",
       "      <td>-0.160261</td>\n",
       "      <td>-0.421376</td>\n",
       "      <td>1.082271</td>\n",
       "      <td>-0.797672</td>\n",
       "      <td>1.075243</td>\n",
       "      <td>-0.146719</td>\n",
       "      <td>-0.218035</td>\n",
       "      <td>0.290708</td>\n",
       "      <td>0.121757</td>\n",
       "      <td>-0.098441</td>\n",
       "      <td>-0.182433</td>\n",
       "      <td>-0.326120</td>\n",
       "      <td>-0.088626</td>\n",
       "      <td>0.413027</td>\n",
       "      <td>0.702307</td>\n",
       "    </tr>\n",
       "    <tr>\n",
       "      <td>4</td>\n",
       "      <td>0.619848</td>\n",
       "      <td>0.680786</td>\n",
       "      <td>-0.911374</td>\n",
       "      <td>-0.033092</td>\n",
       "      <td>-0.699167</td>\n",
       "      <td>-0.797672</td>\n",
       "      <td>-0.708231</td>\n",
       "      <td>-0.146719</td>\n",
       "      <td>-0.218035</td>\n",
       "      <td>-0.595268</td>\n",
       "      <td>0.121757</td>\n",
       "      <td>-0.098441</td>\n",
       "      <td>-0.182433</td>\n",
       "      <td>-0.326120</td>\n",
       "      <td>-0.088626</td>\n",
       "      <td>0.413027</td>\n",
       "      <td>-1.423878</td>\n",
       "    </tr>\n",
       "  </tbody>\n",
       "</table>\n",
       "</div>"
      ],
      "text/plain": [
       "        age  workclass    fnlwgt  education.num  marital.status  occupation  \\\n",
       "0 -1.140832  -0.410718 -1.223127      -1.586228        1.082271   -0.137590   \n",
       "1 -0.994109  -0.410718 -0.612952       0.743476        1.082271   -1.384411   \n",
       "2  0.473125  -0.410718  1.451698      -0.033092        1.082271   -0.797672   \n",
       "3 -0.627300  -0.410718 -0.160261      -0.421376        1.082271   -0.797672   \n",
       "4  0.619848   0.680786 -0.911374      -0.033092       -0.699167   -0.797672   \n",
       "\n",
       "   relationship  capital.gain  capital.loss  hours.per.week  native.country  \\\n",
       "0      1.075243     -0.146719     -0.218035       -0.031465       -3.218806   \n",
       "1      1.075243     -0.146719     -0.218035       -0.031465       -3.218806   \n",
       "2      1.075243     -0.146719     -0.218035       -0.031465        0.121757   \n",
       "3      1.075243     -0.146719     -0.218035        0.290708        0.121757   \n",
       "4     -0.708231     -0.146719     -0.218035       -0.595268        0.121757   \n",
       "\n",
       "      White     Black     Other  Asian-Pac-Islander  Amer-Indian-Eskimo  \\\n",
       "0 -0.098441 -0.182433 -0.326120           -0.088626            0.413027   \n",
       "1 -0.098441 -0.182433  3.066359           -0.088626           -2.421148   \n",
       "2 -0.098441 -0.182433 -0.326120           -0.088626            0.413027   \n",
       "3 -0.098441 -0.182433 -0.326120           -0.088626            0.413027   \n",
       "4 -0.098441 -0.182433 -0.326120           -0.088626            0.413027   \n",
       "\n",
       "     Female  \n",
       "0  0.702307  \n",
       "1  0.702307  \n",
       "2  0.702307  \n",
       "3  0.702307  \n",
       "4 -1.423878  "
      ]
     },
     "execution_count": 667,
     "metadata": {},
     "output_type": "execute_result"
    }
   ],
   "source": [
    "X_train.head()"
   ]
  },
  {
   "cell_type": "markdown",
   "metadata": {},
   "source": [
    "### Let's now see correlation of attributes"
   ]
  },
  {
   "cell_type": "code",
   "execution_count": 668,
   "metadata": {},
   "outputs": [
    {
     "data": {
      "application/javascript": [
       "\n",
       "        if (window._pyforest_update_imports_cell) { window._pyforest_update_imports_cell('import matplotlib.pyplot as plt'); }\n",
       "    "
      ],
      "text/plain": [
       "<IPython.core.display.Javascript object>"
      ]
     },
     "metadata": {},
     "output_type": "display_data"
    },
    {
     "data": {
      "text/plain": [
       "<matplotlib.axes._subplots.AxesSubplot at 0x1a37c534d0>"
      ]
     },
     "execution_count": 668,
     "metadata": {},
     "output_type": "execute_result"
    },
    {
     "data": {
      "image/png": "[encoded data removed]",
      "text/plain": [
       "<Figure size 1080x720 with 2 Axes>"
      ]
     },
     "metadata": {
      "needs_background": "light"
     },
     "output_type": "display_data"
    }
   ],
   "source": [
    "plt.figure(figsize=(15,10))\n",
    "sns.heatmap(X_train.corr(),annot=True)"
   ]
  },
  {
   "cell_type": "markdown",
   "metadata": {},
   "source": [
    "### Let's create a baseline model.\n",
    "> We will be using Logistic Regression"
   ]
  },
  {
   "cell_type": "code",
   "execution_count": 669,
   "metadata": {},
   "outputs": [],
   "source": [
    "from sklearn.linear_model import LogisticRegression"
   ]
  },
  {
   "cell_type": "code",
   "execution_count": 670,
   "metadata": {},
   "outputs": [],
   "source": [
    "from sklearn.model_selection import cross_val_score"
   ]
  },
  {
   "cell_type": "code",
   "execution_count": 671,
   "metadata": {},
   "outputs": [],
   "source": [
    "logistic_regressor = LogisticRegression()"
   ]
  },
  {
   "cell_type": "code",
   "execution_count": 672,
   "metadata": {},
   "outputs": [
    {
     "name": "stderr",
     "output_type": "stream",
     "text": [
      "/opt/anaconda3/lib/python3.7/site-packages/sklearn/linear_model/logistic.py:432: FutureWarning: Default solver will be changed to 'lbfgs' in 0.22. Specify a solver to silence this warning.\n",
      "  FutureWarning)\n",
      "/opt/anaconda3/lib/python3.7/site-packages/sklearn/linear_model/logistic.py:432: FutureWarning: Default solver will be changed to 'lbfgs' in 0.22. Specify a solver to silence this warning.\n",
      "  FutureWarning)\n",
      "/opt/anaconda3/lib/python3.7/site-packages/sklearn/linear_model/logistic.py:432: FutureWarning: Default solver will be changed to 'lbfgs' in 0.22. Specify a solver to silence this warning.\n",
      "  FutureWarning)\n",
      "/opt/anaconda3/lib/python3.7/site-packages/sklearn/linear_model/logistic.py:432: FutureWarning: Default solver will be changed to 'lbfgs' in 0.22. Specify a solver to silence this warning.\n",
      "  FutureWarning)\n",
      "/opt/anaconda3/lib/python3.7/site-packages/sklearn/linear_model/logistic.py:432: FutureWarning: Default solver will be changed to 'lbfgs' in 0.22. Specify a solver to silence this warning.\n",
      "  FutureWarning)\n",
      "/opt/anaconda3/lib/python3.7/site-packages/sklearn/linear_model/logistic.py:432: FutureWarning: Default solver will be changed to 'lbfgs' in 0.22. Specify a solver to silence this warning.\n",
      "  FutureWarning)\n",
      "/opt/anaconda3/lib/python3.7/site-packages/sklearn/linear_model/logistic.py:432: FutureWarning: Default solver will be changed to 'lbfgs' in 0.22. Specify a solver to silence this warning.\n",
      "  FutureWarning)\n",
      "/opt/anaconda3/lib/python3.7/site-packages/sklearn/linear_model/logistic.py:432: FutureWarning: Default solver will be changed to 'lbfgs' in 0.22. Specify a solver to silence this warning.\n",
      "  FutureWarning)\n",
      "/opt/anaconda3/lib/python3.7/site-packages/sklearn/linear_model/logistic.py:432: FutureWarning: Default solver will be changed to 'lbfgs' in 0.22. Specify a solver to silence this warning.\n",
      "  FutureWarning)\n",
      "/opt/anaconda3/lib/python3.7/site-packages/sklearn/linear_model/logistic.py:432: FutureWarning: Default solver will be changed to 'lbfgs' in 0.22. Specify a solver to silence this warning.\n",
      "  FutureWarning)\n"
     ]
    }
   ],
   "source": [
    "scores=cross_val_score(logistic_regressor,X_train,y_train,cv=10)"
   ]
  },
  {
   "cell_type": "code",
   "execution_count": 673,
   "metadata": {},
   "outputs": [
    {
     "name": "stdout",
     "output_type": "stream",
     "text": [
      "Accuracy: 0.85\n"
     ]
    }
   ],
   "source": [
    "print(\"Accuracy: %0.2f\" % (scores.mean()))"
   ]
  },
  {
   "cell_type": "markdown",
   "metadata": {},
   "source": [
    "> We are getting mean accuracy of 85% on validation data but as data is imbalanced hence we need to check other metrics like Precision ans Recall.\n",
    "Let's see how it performs on test data."
   ]
  },
  {
   "cell_type": "code",
   "execution_count": null,
   "metadata": {},
   "outputs": [],
   "source": []
  }
 ],
 "metadata": {
  "kernelspec": {
   "display_name": "Python 3",
   "language": "python",
   "name": "python3"
  },
  "language_info": {
   "codemirror_mode": {
    "name": "ipython",
    "version": 3
   },
   "file_extension": ".py",
   "mimetype": "text/x-python",
   "name": "python",
   "nbconvert_exporter": "python",
   "pygments_lexer": "ipython3",
   "version": "3.7.4"
  }
 },
 "nbformat": 4,
 "nbformat_minor": 2
}
